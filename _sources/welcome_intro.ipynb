{
 "cells": [
  {
   "cell_type": "markdown",
   "id": "997a826f",
   "metadata": {},
   "source": [
    "# Welcome to AEcroscopy"
   ]
  },
  {
   "cell_type": "markdown",
   "id": "1256f201",
   "metadata": {},
   "source": [
    "Welcom to AEcroscoPy! With this site, we aim to provide an introduction and tutorial to use AEcroscopy for automated and autonomous microscopy experiments and data processing. "
   ]
  },
  {
   "cell_type": "markdown",
   "id": "29a7dfeb",
   "metadata": {},
   "source": [
    "```{image} ../images/logo.png\n",
    ":width: 600px\n",
    ":align: center\n",
    "```"
   ]
  },
  {
   "cell_type": "markdown",
   "id": "8f0a045e",
   "metadata": {},
   "source": [
    "Automated and autonomous experiments have become popular in various fields, such as drug discovery, spae epxloration, environmental monitoring, and materials science. Automated experiments leverage technology and machinery to perform tasks automatically to improve efficiency and precision, autonomous experiments is a step further by integrating artifical intelligence (AI) and machine learning (ML) for data analysis, decision-making, optimization, and adaption. A program package and application program interface (API) can empower researchers to build sophisticated autonomous systems to conduct experiments with a high degree of autonomy and efficiency by providing handy infrastructure and tools for seamless intergration, efficience hardware control, AI-based decision-making, and real-time adpation in experiments. \n",
    "\n",
    "AEcroscoPy is a Python package that integrates with our self-developed API PyAE and PyScanner, aiming to revolutionizing microscopy measurements. AEcroscoPy enables easy implementation of experiments formulated with Python program, allows users to orchestrate complex experiments, design workflows, and gather data more efficiently. Furthermore, AEcroscopy allows users to integrate ML models into the operating experiment, harnessing the power of AI for real-time data analysis and decision-making. This will enable rapid iterations in experiment and largely accelerate scientific discovery in microscopy experiments.\n",
    "\n",
    "With this site, you will discover the potential of AEcroscopy and experience the future of microscopy experimentation."
   ]
  },
  {
   "cell_type": "markdown",
   "id": "9b4d732e",
   "metadata": {},
   "source": [
    "$_{Yongtao}$ $_{Liu,}$ $_{liuy3@ornl.gov}$ \n",
    "\n",
    "$_{June}$ $_{2023}$"
   ]
  }
 ],
 "metadata": {
  "kernelspec": {
   "display_name": "Python 3 (ipykernel)",
   "language": "python",
   "name": "python3"
  },
  "language_info": {
   "codemirror_mode": {
    "name": "ipython",
    "version": 3
   },
   "file_extension": ".py",
   "mimetype": "text/x-python",
   "name": "python",
   "nbconvert_exporter": "python",
   "pygments_lexer": "ipython3",
   "version": "3.10.9"
  }
 },
 "nbformat": 4,
 "nbformat_minor": 5
}
