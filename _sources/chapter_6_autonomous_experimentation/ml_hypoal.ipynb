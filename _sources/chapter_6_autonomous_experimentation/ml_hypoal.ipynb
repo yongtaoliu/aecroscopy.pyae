{
 "cells": [
  {
   "cell_type": "markdown",
   "id": "6bc2cadf",
   "metadata": {},
   "source": [
    "# Hypothesis Leanring Domain Growth\n",
    "\n",
    "$_{Yongtao}$ $_{Liu,}$ $_{liuy3@ornl.gov}$\n",
    "\n",
    "$_{July}$ $_{2023}$"
   ]
  },
  {
   "cell_type": "markdown",
   "id": "ec614948",
   "metadata": {},
   "source": [
    "### Install and Import"
   ]
  },
  {
   "cell_type": "code",
   "execution_count": 10,
   "id": "4f2fc877",
   "metadata": {},
   "outputs": [],
   "source": [
    "import os\n",
    "import win32com.client\n",
    "import numpy as np\n",
    "import time\n",
    "import h5py\n",
    "import sidpy\n",
    "import pyNSID\n",
    "import matplotlib.pyplot as plt\n",
    "from tqdm import tqdm\n",
    "\n",
    "# import acquition.py\n",
    "from Acquisition_v0_5 import Acquisition   # include the Acquistion_v0.py in the same directory\n",
    "\n",
    "\n",
    "import cv2\n",
    "# import imutils\n",
    "from os.path import exists\n",
    "# from jupyterthemes import jtplot\n",
    "# jtplot.style()"
   ]
  },
  {
   "cell_type": "markdown",
   "id": "836c05a8",
   "metadata": {},
   "source": [
    "### Start BEPyAE.exe and set VI\n",
    "\n",
    "* Start BEPyAE.ext\n",
    "* Set VI of BEPyAE; if this version includes PyScanner, also set VIs for PyScanner"
   ]
  },
  {
   "cell_type": "code",
   "execution_count": 11,
   "id": "91ee86f5",
   "metadata": {},
   "outputs": [],
   "source": [
    "newexp = Acquisition(exe_path = r\"C:\\BEPyAE 060123 01\\BEPyAE.exe\")   # exe_path is the directory of BEPyAE; "
   ]
  },
  {
   "cell_type": "markdown",
   "id": "93f421fa",
   "metadata": {},
   "source": [
    "### Initialize Igor AR18\n",
    "* Set offline development\n",
    "* Build a connection between BEPyAE and AR18\n",
    "* Get parameters in AR18"
   ]
  },
  {
   "cell_type": "code",
   "execution_count": 12,
   "id": "3b51e907",
   "metadata": {},
   "outputs": [],
   "source": [
    "newexp.init_BEPyAE(offline_development = True) # set offline_development=True if doing offline development\n",
    "                                                # executing this will also initlize AR18"
   ]
  },
  {
   "cell_type": "markdown",
   "id": "756ab303",
   "metadata": {},
   "source": [
    "### Set tip parameters\n",
    "* set setpoint, tip locations"
   ]
  },
  {
   "cell_type": "code",
   "execution_count": 13,
   "id": "7484a9a1",
   "metadata": {},
   "outputs": [
    {
     "name": "stdout",
     "output_type": "stream",
     "text": [
      "Setpoint is:  1.0\n",
      "Tip parameters are:  (-0.5, 0.5, 1.0)\n",
      "Please reset if some parameters are incorrect\n"
     ]
    }
   ],
   "source": [
    "newexp.tip_control(tip_parms_dict = {\"set_point_V_00\": 1, \"next_x_pos_00\": -0.5, \"next_y_pos_01\": 0.5},\n",
    "                   do_move_tip = True, \n",
    "                   do_set_setpoint = True) # Executing this code will set setpoint to 1 V, \n",
    "                                           # and move tip to location [0.5, 0.5]"
   ]
  },
  {
   "cell_type": "markdown",
   "id": "eea3d6d5",
   "metadata": {},
   "source": [
    "### Set IO \n",
    "This defines IO parameters, such as AFM platform: AR18, amplifiers, channel data types, etc"
   ]
  },
  {
   "cell_type": "code",
   "execution_count": 14,
   "id": "a3eb5cdf",
   "metadata": {},
   "outputs": [
    {
     "name": "stdout",
     "output_type": "stream",
     "text": [
      "IO control parameters are:  ('0 Cypher AR18', '6124', 4000000.0, 10.0, 10.0, 'AC and DC on AO0', 1.0, 'none', 'none', 'none', 'external')\n",
      "Please reset if some parameters are incorrect\n"
     ]
    }
   ],
   "source": [
    "newexp.define_io_cluster(IO_cluster_parms_dict = {\"analog_output_amplifier_06\": 1, \n",
    "                                                  \"channel_01_type_07\": 1, \n",
    "                                                  \"channel_02_type_08\": 2,\"channel_03_type_09\": 3,})"
   ]
  },
  {
   "cell_type": "markdown",
   "id": "702b917f",
   "metadata": {},
   "source": [
    "### Set BE pulse parameters "
   ]
  },
  {
   "cell_type": "code",
   "execution_count": 15,
   "id": "5b332c6c",
   "metadata": {},
   "outputs": [
    {
     "name": "stdout",
     "output_type": "stream",
     "text": [
      "BE parameters are:  (335000.0, 100000.0, 1.0, 1.0, 4, 0.004, 1, 3352.2952763920002, 0.12159459061880915)\n",
      "Please reset if some parameters are incorrect\n"
     ]
    },
    {
     "data": {
      "text/plain": [
       "(335000.0,\n",
       " 100000.0,\n",
       " 1.0,\n",
       " 1.0,\n",
       " 4,\n",
       " 0.004,\n",
       " 1,\n",
       " 3352.2952763920002,\n",
       " 0.12159459061880915)"
      ]
     },
     "execution_count": 15,
     "metadata": {},
     "output_type": "execute_result"
    }
   ],
   "source": [
    "# set BE parameters\n",
    "newexp.define_be_parms(be_parms_dict = {\"center_frequency_Hz_00\": 335, \"band_width_Hz_01\": 100,\n",
    "                                       \"amplitude_V_02\": 1, \"phase_variation_03\": 1,\n",
    "                                       \"repeats_04\": 4, \"req_pulse_duration_s_05\": 4,\n",
    "                                       \"auto_smooth_ring_06\": 1}, \n",
    "                      do_create_be_waveform = True)"
   ]
  },
  {
   "cell_type": "markdown",
   "id": "8af23d31",
   "metadata": {},
   "source": [
    "### BE Line scan to test BE parameters\n",
    "* This is a single BE line scan\n",
    "* This returns 5 datasets: quick_fitting, complex spectra, and 3 channels"
   ]
  },
  {
   "cell_type": "code",
   "execution_count": 16,
   "id": "0a2d63a9",
   "metadata": {},
   "outputs": [
    {
     "name": "stdout",
     "output_type": "stream",
     "text": [
      "voltage offset and number of BE pulse are:  (0.0, 32)\n",
      "line scan start and end positions:  (-0.5, 0.0, 0.5, 0.0)\n"
     ]
    }
   ],
   "source": [
    "# Do a single line scan\n",
    "qk_fit, com_spec, chn1, chn2, chn3 = newexp.do_line_scan(line_scan_parms_dict = {\"num_BE_pulses_01\": 32,\n",
    "                                                                                 \"start_x_pos_00\": -0.5, \"start_y_pos_01\": 0,\n",
    "                                                                                 \"stop_x_pos_02\": 0.5, \"stop_y_pos_03\": 0},\n",
    "                                                         upload_to_daq = True, do_line_scan = True)"
   ]
  },
  {
   "cell_type": "markdown",
   "id": "b57ddb0f",
   "metadata": {},
   "source": [
    "# Experiment Starts"
   ]
  },
  {
   "cell_type": "markdown",
   "id": "8acfbf78",
   "metadata": {},
   "source": [
    "#### In this experiment, we begin by applying a DC pulse to switch the ferroelectric polarization. Subsequently, a BEPFM (Bias-Enhanced Piezoresponse Force Microscopy) measurement is conducted to image the domain structure.\n",
    "\n",
    "1. To initiate the measurement process, we first need to determine the location for each individual measurement. For each measurement, a new location is chosen, requiring a location array to record all the measurements as demonstrated below.\n",
    "\n",
    "```{image} ../images/chapter3_imageHypoAL1.png\n",
    ":width: 300px\n",
    ":align: center\n",
    "```\n",
    "\n"
   ]
  },
  {
   "cell_type": "markdown",
   "id": "e782b736",
   "metadata": {},
   "source": [
    "```{admonition} Run on local PC\n",
    "Run below code on microscope computer.\n",
    "```"
   ]
  },
  {
   "cell_type": "markdown",
   "id": "60a600bf",
   "metadata": {},
   "source": [
    "\n",
    "### Prior to expeirment, set a directory to save data"
   ]
  },
  {
   "cell_type": "code",
   "execution_count": 21,
   "id": "0f44615e",
   "metadata": {},
   "outputs": [],
   "source": [
    "os.chdir(r\"C:\\Hypothesis_learning\\Test\")"
   ]
  },
  {
   "cell_type": "code",
   "execution_count": 22,
   "id": "26304f98",
   "metadata": {},
   "outputs": [],
   "source": [
    "def domain_size (img, thresh):\n",
    "    thresh_img = np.copy(img)\n",
    "    thresh_img [img > thresh] = 1\n",
    "    thresh_img [img < thresh] = 0\n",
    "    \n",
    "    # find contours in the thresholded image\n",
    "    thresh_img = thresh_img.astype(np.uint8)\n",
    "    cnts = cv2.findContours(thresh_img, cv2.RETR_EXTERNAL, cv2.CHAIN_APPROX_SIMPLE)\n",
    "    cnts = imutils.grab_contours(cnts)\n",
    "\n",
    "    center = np.zeros((len(cnts), 2))\n",
    "    radius = np.zeros(len(cnts))\n",
    "    for num_domain in range (len(cnts)):\n",
    "        (x,y),r = cv2.minEnclosingCircle(cnts[num_domain])\n",
    "        #center location\n",
    "        center[num_domain,0] = x\n",
    "        center[num_domain,1] = y\n",
    "        #radius of minimum circle\n",
    "        radius[num_domain] = r\n",
    "    \n",
    "    #calculate the distance between domain center and image center (writing point)\n",
    "    img_size = img.shape[0]\n",
    "    img_center_x = int(img_size/2)\n",
    "    img_center_y = int(img_size/2)\n",
    "    #away_writing_point = np.sqrt((center[:,0]-img_center_x)**2 + (center[:,1]-img_center_y)**2)\n",
    "    away_writing_point = np.sqrt((center[:,0]-32)**2 + (center[:,1]-32)**2)\n",
    "\n",
    "    #then, calculate the total area of residue domains\n",
    "    if len(radius) == 0:\n",
    "        print (\"domain size is 0.0\")\n",
    "        f, ax = plt.subplots()\n",
    "        ax.imshow(thresh_img)\n",
    "        plt.show()\n",
    "        plt.close()\n",
    "        return 0.0      #if no domains, return domain size as 0\n",
    "    elif away_writing_point.min() > 20:   #if the nearest domain is away (13) from the center, treat it as noise or the domains originally in the region\n",
    "        print (\"domain size is 0.0\")\n",
    "        f, ax = plt.subplots()\n",
    "        ax.imshow(thresh_img)\n",
    "        plt.show()\n",
    "        plt.close()\n",
    "        return 0.0      #return domain size as 0\n",
    "    else:\n",
    "        #return_domain_size = np.sqrt((radius[away_writing_point.argmin()]**2))   # we use square root as area, treat the neareast domain as the written domain\n",
    "        return_domain_size = (radius.max())\n",
    "        \n",
    "        f, ax = plt.subplots()\n",
    "        ax.imshow(thresh_img, origin = \"lower\")\n",
    "#         for c in range(len(radius)):\n",
    "#             Drawing_colored_circle=plt.Circle(center[c], radius[c], fill = False, color = 'white', linewidth = 4);\n",
    "#             ax.add_artist(Drawing_colored_circle)\n",
    "        Drawing_colored_circle=plt.Circle(center[away_writing_point.argmin()], radius[away_writing_point.argmin()], \n",
    "                                          fill = False, color = 'white', linewidth = 4);\n",
    "        ax.add_artist(Drawing_colored_circle)    \n",
    "        plt.show()\n",
    "        plt.close()\n",
    "        return return_domain_size   "
   ]
  },
  {
   "cell_type": "markdown",
   "id": "5f840f68",
   "metadata": {},
   "source": [
    "### Step 1. Generate a location array"
   ]
  },
  {
   "cell_type": "code",
   "execution_count": 23,
   "id": "f23cdb3f",
   "metadata": {},
   "outputs": [
    {
     "name": "stdout",
     "output_type": "stream",
     "text": [
      "100 locations are ready for experiments\n"
     ]
    }
   ],
   "source": [
    "# All locations span across [start_point_x, end_point_x] in x-direction and [start_point_y, end_point_y] in y-direction.\n",
    "# There are num_x rows and num_y columns in the locations array\n",
    "\n",
    "start_point_x = -0.9   # Define location array parameters\n",
    "end_point_x = 0.9\n",
    "start_point_y = -0.9\n",
    "end_point_y = 0.9\n",
    "num_x = 10\n",
    "num_y = 10\n",
    "\n",
    "# Generate location array\n",
    "pos_x = np.linspace(-0.9, 0.9, num_x)\n",
    "pos_y = np.linspace(-0.9, 0.9, num_y)\n",
    "pulse_pos = np.meshgrid(pos_x, pos_y)\n",
    "pulse_pos_x = pulse_pos[0].reshape(-1)\n",
    "pulse_pos_y = pulse_pos[1].reshape(-1)  # pulse_pos_x and pulse_pos_y are the coordinates of all locations\n",
    "\n",
    "# Set BEPFM image size\n",
    "img_size = 0.1\n",
    "\n",
    "# Check\n",
    "if img_size > np.abs(pos_x[0]-pos_x[1]):\n",
    "    print (\"Alert: there will be image overlap along x-direction\")\n",
    "elif img_size > np.abs(pos_y[0]-pos_y[1]):\n",
    "    print (\"Alert: there will be image overlap along y-direction\")\n",
    "else:\n",
    "    print(\"{} locations are ready for experiments\".format(len(pulse_pos_x)))"
   ]
  },
  {
   "cell_type": "markdown",
   "id": "d2b212e2",
   "metadata": {},
   "source": [
    "```{admonition} Run on GPU server\n",
    "Run below code on GPU server.\n",
    "```"
   ]
  },
  {
   "cell_type": "markdown",
   "id": "c2ec36c2",
   "metadata": {},
   "source": [
    "### Step 2. Install and import @ GPU server, and define help functions"
   ]
  },
  {
   "cell_type": "code",
   "execution_count": 7,
   "id": "e7682bd2",
   "metadata": {},
   "outputs": [
    {
     "ename": "SyntaxError",
     "evalue": "invalid syntax (Temp/ipykernel_21664/3515848405.py, line 3)",
     "output_type": "error",
     "traceback": [
      "\u001b[1;36m  File \u001b[1;32m\"C:\\Users\\yla\\AppData\\Local\\Temp/ipykernel_21664/3515848405.py\"\u001b[1;36m, line \u001b[1;32m3\u001b[0m\n\u001b[1;33m    -------------------------------------------------------------------\u001b[0m\n\u001b[1;37m                                                                       ^\u001b[0m\n\u001b[1;31mSyntaxError\u001b[0m\u001b[1;31m:\u001b[0m invalid syntax\n"
     ]
    }
   ],
   "source": [
    "Please run this code @ GPU server\n",
    "-------------------------------------------------------------------\n",
    "\n",
    "!pip install --upgrade jax==0.2.25\n",
    "!pip install -q git+https://github.com/ziatdinovmax/gpax.git\n",
    "!pip install numpy --upgrade\n",
    "\n",
    "\n",
    "from typing import Dict\n",
    "\n",
    "import gpax\n",
    "import numpyro\n",
    "import numpy as onp\n",
    "import jax.numpy as jnp\n",
    "import jax.random as jra\n",
    "import matplotlib.pyplot as plt\n",
    "import time\n",
    "from mlsocket import MLSocket\n",
    "\n",
    "print('jax device: ', jax.devices())\n",
    "\n",
    "gpax.utils.enable_x64()"
   ]
  },
  {
   "cell_type": "code",
   "execution_count": null,
   "id": "285fef50",
   "metadata": {},
   "outputs": [],
   "source": [
    "Please run this code @ GPU server\n",
    "-------------------------------------------------------------------\n",
    "\n",
    "def model_data(x: jnp.ndarray, params: Dict[str, float]) -> jnp.ndarray:\n",
    "    \"\"\"\n",
    "    r = r_c + r_0 * ((V/V_c)^2 - 1)^{1/3}\n",
    "    \"\"\"\n",
    "    return params[\"r_c\"] + params[\"r_0\"] * jnp.cbrt((x[:, 0] / params[\"V_c\"])**2 - 1)\n",
    "\n",
    "def grid2xy(X1, X2):\n",
    "    \"\"\"\n",
    "    Maps (M, N) grid to (M*N, 2) xy coordinates.\n",
    "    Removes NaNs (if any)\n",
    "    \"\"\"\n",
    "    X = jnp.concatenate((X1[None], X2[None]), 0)\n",
    "    d0, d1 = X.shape[0], X.shape[1] * X.shape[2]\n",
    "    X = X.reshape(d0, d1).T\n",
    "    X = X[~jnp.isnan(X).any(axis=1)]\n",
    "    return X\n",
    "\n",
    "#data initialization and update functions\n",
    "def init_training_data_exp(X, Y, num_seed_points=2, rng_seed=42, list_of_indices=None):\n",
    "    onp.random.seed(rng_seed)\n",
    "    indices = jnp.arange(len(X))\n",
    "    idx = list_of_indices\n",
    "    if idx is not None:\n",
    "        idx = onp.array(idx)\n",
    "    else:\n",
    "        idx = onp.random.randint(0, len(X), num_seed_points)\n",
    "    #idx = onp.unique(idx)\n",
    "    X_train, y_train = X[idx], Y\n",
    "    indices_train = indices[idx]\n",
    "    X_test = jnp.delete(X, idx, axis = 0)\n",
    "    #y_test = jnp.delete(Y, idx)\n",
    "    indices_test = jnp.delete(indices, idx)\n",
    "    return X_train, y_train, X_test, indices_train, indices_test\n",
    "\n",
    "def update_datapoints_exp(next_point_idx, train, test, y_new):\n",
    "    \"\"\"Update \"measured\" dummy data points\"\"\"\n",
    "    X_train, y_train, indices_train = train\n",
    "    X_test, indices_test = test\n",
    "    X_train = jnp.append(X_train, X_test[next_point_idx][None], axis = 0)\n",
    "    X_test = jnp.delete(X_test, next_point_idx, axis = 0)\n",
    "    y_train = jnp.append(y_train, y_new[0])\n",
    "    #y_test = jnp.delete(y_test, next_point_idx)\n",
    "    indices_train = jnp.append(indices_train, next_point_idx)\n",
    "    indices_test = jnp.delete(indices_test, next_point_idx)\n",
    "    return (X_train, y_train, indices_train), (X_test, indices_test)\n",
    "\n",
    "params = {\"r_c\": 1, \"r_0\": 1.5 , \"V_c\": 2}\n",
    "#params = {\"alpha\": 1.1, \"beta\": .4}\n",
    "\n",
    "d1 = 20\n",
    "d2 = 20\n",
    "\n",
    "V = jnp.linspace(1, 10, d1)\n",
    "log_tau = jnp.linspace(-3, 2, d2)\n",
    "V, log_tau = onp.meshgrid(V, log_tau)\n",
    "X = grid2xy(V, log_tau)\n",
    "y = model_data(X, params) + .4 * jra.normal(jra.PRNGKey(1), shape=(len(X),))\n",
    "print (\"Parameter space: \", X)"
   ]
  },
  {
   "cell_type": "markdown",
   "id": "6f4a6887",
   "metadata": {},
   "source": [
    "### Step 3. Generate random seedings"
   ]
  },
  {
   "cell_type": "code",
   "execution_count": null,
   "id": "33bedb50",
   "metadata": {},
   "outputs": [],
   "source": [
    "Please run this code @ GPU server\n",
    "-------------------------------------------------------------------\n",
    "\n",
    "# Generate seed write parameters\n",
    "\n",
    "onp.random.seed(5)\n",
    "seed_step = 20\n",
    "\n",
    "# random index\n",
    "idx = []\n",
    "onp.random.seed(10)\n",
    "\n",
    "idx = onp.random.choice(len(y), size = seed_step, replace=False)\n",
    "\n",
    "print(len(set(idx)))\n",
    "idx = onp.asarray(idx)\n",
    "indx = jnp.asarray(idx).tolist()\n",
    "print(len(idx))\n",
    "\n",
    "X_measured = X[idx]\n",
    "y_measured = y[idx]\n",
    "X_unmeasured = jnp.delete(X, idx, axis=0)\n",
    "\n",
    "onp.save(\"seed_write_paras.npy\", X_measured)  # send this to local"
   ]
  },
  {
   "cell_type": "markdown",
   "id": "32d5d265",
   "metadata": {},
   "source": [
    "```{admonition} Run on local PC\n",
    "Run below code on local PC.\n",
    "```"
   ]
  },
  {
   "cell_type": "markdown",
   "id": "64b9d37a",
   "metadata": {},
   "source": [
    "### Step 4. Transferseeding parameters from GPU server to local PC via sftp\n",
    "\n",
    "\n",
    "### Step 5. Load seed writing parameters"
   ]
  },
  {
   "cell_type": "code",
   "execution_count": null,
   "id": "1ba3c782",
   "metadata": {},
   "outputs": [],
   "source": [
    "# load seed parameters from GPU-server\n",
    "seed_paras_file = \"/content/seed_write_paras.npy\"\n",
    "seed_write_paras = np.load(seed_paras_file)\n",
    "\n",
    "# check seed parameters\n",
    "print (\"Seed Parameters: \", seed_write_paras)"
   ]
  },
  {
   "cell_type": "markdown",
   "id": "ddeaa5a2",
   "metadata": {},
   "source": [
    "### Step 6. Start seed measurements"
   ]
  },
  {
   "cell_type": "code",
   "execution_count": null,
   "id": "79c2b823",
   "metadata": {},
   "outputs": [],
   "source": [
    "seed_domain_size = []\n",
    "for i in tqdm(range(len(seed_write_paras))):\n",
    "    #####################----------- Move tip to the pulse location -----------##################### \n",
    "    newexp.tip_control(tip_parms_dict = {\"set_point_V_00\": 1,\n",
    "                                         \"next_x_pos_00\": pulse_pos_x[i],\n",
    "                                         \"next_y_pos_01\": pulse_pos_y[i]},\n",
    "                       do_move_tip = True, do_set_setpoint = True)\n",
    "    time.sleep(0.2)\n",
    "    \n",
    "    #####################----------- Apply pulse -----------##################### \n",
    "    # load pulse\n",
    "    V_amp = -seed_write_paras[0][i]\n",
    "    V_time_log = seed_write_paras[1][i]\n",
    "    V_time = math.pow(1o, V_time)\n",
    "    print (\"Write Parameters: {} V, {} s\".format(V_amp, V_time))\n",
    "    \n",
    "    # apply pulse\n",
    "    newexp.define_apply_pulse(pulse_parms_dict = {\"pulse_init_amplitude_V_00\": 0, \"pulse_mid_amplitude_V_01\": V_amp,\n",
    "                                                  \"pulse_final_amplitude_V_02\": 0, \"pulse_on_duration_s_03\": V_time,\n",
    "                                                  \"rise_time_s_05\": 1E-4, \"pulse_final_duration_s_04\": 20E-3,\n",
    "                                                  \"pulse_repeats_06\": 1},\n",
    "                              do_create_pulse = True, do_upload_pulse = True, do_apply_pulse = False)\n",
    "    # \n",
    "    time.sleep(1)\n",
    "    newexp.define_apply_pulse(pulse_parms_dict = {\"pulse_init_amplitude_V_00\": 0, \"pulse_mid_amplitude_V_01\": V_amp,\n",
    "                                                  \"pulse_final_amplitude_V_02\": 0, \"pulse_on_duration_s_03\": V_time,\n",
    "                                                  \"rise_time_s_05\": 1E-4, \"pulse_final_duration_s_04\": 20E-3,\n",
    "                                                  \"pulse_repeats_06\": 1},\n",
    "                              do_create_pulse = True, do_upload_pulse = True, do_apply_pulse = True)\n",
    "    time.sleep(2)\n",
    "    \n",
    "    #####################----------- Do BEPFM to image domain -----------#####################\n",
    "    dset_pfm, dset_chns, dset_cs = newexp.raster_scan(raster_parms_dict = {\"scan_pixel\": 64,\n",
    "                                                                           \"scan_x_start\": pulse_pos_x[i]-(img_size/2), \n",
    "                                                                           \"scan_y_start\": pulse_pos_y[i]-(img_size/2),\n",
    "                                                                           \"scan_x_stop\": pulse_pos_x[i]+(img_size/2), \n",
    "                                                                           \"scan_y_stop\": pulse_pos_y[i]+(img_size/2)},\n",
    "                                                      file_name = \"HypoAl_Domain_Writing_{}\".format(i), \n",
    "                                                      progress_on = False, plot_on = False)\n",
    "    time.sleep(0.5)\n",
    "    \n",
    "    # Plot BEPFM images\n",
    "    f, (ax1, ax2, ax3, ax4, ax5, ax6) = plt.subplots(1, 6, figsize = (30, 5), dpi = 100)\n",
    "    ax1.imshow(dset_pfm[:,:,0])\n",
    "    ax2.imshow(dset_pfm[:,:,1])\n",
    "    ax3.imshow(dset_pfm[:,:,2])\n",
    "    ax4.imshow(dset_pfm[:,:,3])\n",
    "    ax5.imshow(dset_chns[0,:,:])\n",
    "    ax6.imshow(dset_chns[1,:,:])\n",
    "    plt.show()\n",
    "    \n",
    "    # Calculate domain size\n",
    "    pha = np.asarray(dset_pfm[:,:,3])\n",
    "    ds = domain_size (pha, 0.3)\n",
    "    seed_domain_size.append(ds)  # add domain size to list\n",
    "    \n",
    "# Save seed domain size\n",
    "np.save(\"seed_domain_size.npy\", np.asarray(seed_domain_size)) # send this to GPU server"
   ]
  },
  {
   "cell_type": "markdown",
   "id": "a0a838c3",
   "metadata": {},
   "source": [
    "```{admonition} Run on GPU server\n",
    "Run below code on GPU server.\n",
    "```"
   ]
  },
  {
   "cell_type": "markdown",
   "id": "4f3396d3",
   "metadata": {},
   "source": [
    "### Step 7. Send seeding results to GPU server via sftp"
   ]
  },
  {
   "cell_type": "markdown",
   "id": "14aa521d",
   "metadata": {},
   "source": [
    "### Step 8. Prepare seeding train data"
   ]
  },
  {
   "cell_type": "code",
   "execution_count": null,
   "id": "2ad056dc",
   "metadata": {},
   "outputs": [],
   "source": [
    "Please run this code @ GPU server\n",
    "-------------------------------------------------------------------\n",
    "\n",
    "y_measured = onp.load(\"seed_domain_size.npy\")\n",
    "\n",
    "(X_train, y_train, X_test, \n",
    " indices_train, indices_test) = init_training_data_exp(X, y_measured, list_of_indices = indx)\n",
    "\n",
    "onp.savez(\"dataset_seed.npz\", X_measured=X_train, y_measured=y_train, \n",
    "          indices_measured=indices_train, X_unmeasured=X_test, indices_unmeasured=indices_test)\n",
    "onp.savez(\"dataset.npz\", X_measured=X_train, y_measured=y_train, \n",
    "          indices_measured=indices_train, X_unmeasured=X_test, indices_unmeasured=indices_test)"
   ]
  },
  {
   "cell_type": "markdown",
   "id": "5da70366",
   "metadata": {},
   "source": [
    "### Step 9. Start Hypothesis Active Learning exploration"
   ]
  },
  {
   "cell_type": "code",
   "execution_count": null,
   "id": "4e1dc207",
   "metadata": {},
   "outputs": [],
   "source": [
    "Please run this code @ GPU server\n",
    "-------------------------------------------------------------------\n",
    "\n",
    "exploration_step = 100\n",
    "HOST = ''\n",
    "PORT = 3446\n",
    "\n",
    "# Bind to local PC\n",
    "with MLSocket() as s:\n",
    "    s.bind((HOST, PORT))\n",
    "    s.listen()\n",
    "    conn, address = s.accept()\n",
    "    print(\"Bind successfully\")\n",
    "    with conn:\n",
    "        # Warm-up phase\n",
    "        print('Warm-up starts')\n",
    "        \n",
    "        # HypoAl Starts\n",
    "        for i in range(exploration_steps):\n",
    "            %run sGP_AL_domains_v1b.py dataset.npz\n",
    "            next_point_idx = onp.load(\"next_idx.npy\")\n",
    "            nextpoint = onp.asarray(indices_test[next_point_idx])\n",
    "            print (\"Next measurement location is: \", nextpoint)\n",
    "            \n",
    "            # Send next point to local PC\n",
    "            time.sleep(0.01)\n",
    "            conn.send(nextpoint)\n",
    "            time.sleep(0.01)\n",
    "            \n",
    "            print (\"Waiting for new experiment result\")\n",
    "            # Accept new experiment results\n",
    "            written_domain_size = conn.recv(920)\n",
    "            time.sleep(0.01)\n",
    "            \n",
    "            # Update measured and unmeasured dataset\n",
    "            y_new = jnp.asarray([written_domain_size])\n",
    "            ((X_train, y_train, indices_train), (X_test, indices_test)) = update_datapoints_exp(\n",
    "                next_point_idx, (X_train, y_train, indices_train), (X_test, indices_test), y_new)\n",
    "            \n",
    "            # Save results\n",
    "            onp.savez(\"dataset{}.npz\".format(i), X_measured=X_train, y_measured=y_train,\n",
    "                      indices_measured=indices_train, X_unmeasured=X_test, indices_unmeasured=indices_test)\n",
    "            onp.savez(\"dataset.npz\", X_measured=X_train, y_measured=y_train,\n",
    "                      indices_measured=indices_train, X_unmeasured=X_test, indices_unmeasured=indices_test)\n",
    "    \n",
    "            data = onp.load('dataset.npz')\n",
    "    \n",
    "            print (data['X_measured'], '\\n', data['y_measured'], '\\n', data['indices_measured'])\n",
    "            print (data['X_unmeasured'], '\\n', data['indices_unmeasured'])\n",
    "        \n",
    "    # disconnet and shut down socket\n",
    "    conn.close()\n",
    "    s.shutdown(1)\n",
    "    s.close()"
   ]
  },
  {
   "cell_type": "markdown",
   "id": "6399745e",
   "metadata": {},
   "source": [
    "```{admonition} Run on local PC\n",
    "Run below code on microscope computer.\n",
    "```"
   ]
  },
  {
   "cell_type": "markdown",
   "id": "d2d3737d",
   "metadata": {},
   "source": [
    "\n",
    "### Step 10. Connect to GPU server and start hypothesis driven active learning measurements"
   ]
  },
  {
   "cell_type": "code",
   "execution_count": null,
   "id": "237b1932",
   "metadata": {},
   "outputs": [],
   "source": [
    "exploration_step = 100\n",
    "exploration_domain_size = []\n",
    "\n",
    "HOST = 'localhost'\n",
    "PORT = 9000"
   ]
  },
  {
   "cell_type": "code",
   "execution_count": null,
   "id": "43d75ff5",
   "metadata": {},
   "outputs": [],
   "source": [
    "with MLSocket() as s:\n",
    "    s.connect((HOST, PORT))\n",
    "    for i in tqdm(range(exploration_step)):\n",
    "        #####################----------- Move tip to the pulse location -----------##################### \n",
    "        measure_loc = len (seed_write_paras) + i\n",
    "        newexp.tip_control(tip_parms_dict = {\"set_point_V_00\": 1,\n",
    "                                             \"next_x_pos_00\": pulse_pos_x[measure_loc],\n",
    "                                             \"next_y_pos_01\": pulse_pos_y[measure_loc]},\n",
    "                           do_move_tip = True, do_set_setpoint = True)\n",
    "        time.sleep(0.2)\n",
    "    \n",
    "        #####################----------- Apply pulse -----------##################### \n",
    "        # receive the first write parameters from Sockets\n",
    "        write_paras = s.recv(920)\n",
    "        V_amp = write_paras[0]\n",
    "        V_time = math.pow(10, write_paras[1])\n",
    "    \n",
    "        # apply pulse\n",
    "        newexp.define_apply_pulse(pulse_parms_dict = {\"pulse_init_amplitude_V_00\": 0, \"pulse_mid_amplitude_V_01\": V_amp,\n",
    "                                                      \"pulse_final_amplitude_V_02\": 0, \"pulse_on_duration_s_03\": V_time,\n",
    "                                                      \"rise_time_s_05\": 1E-4, \"pulse_final_duration_s_04\": 20E-3,\n",
    "                                                      \"pulse_repeats_06\": 1},\n",
    "                                  do_create_pulse = True, do_upload_pulse = True, do_apply_pulse = False)\n",
    "        \n",
    "        time.sleep(1)\n",
    "        newexp.define_apply_pulse(pulse_parms_dict = {\"pulse_init_amplitude_V_00\": 0, \"pulse_mid_amplitude_V_01\": V_amp,\n",
    "                                                      \"pulse_final_amplitude_V_02\": 0, \"pulse_on_duration_s_03\": V_time,\n",
    "                                                      \"rise_time_s_05\": 1E-4, \"pulse_final_duration_s_04\": 20E-3,\n",
    "                                                      \"pulse_repeats_06\": 1},\n",
    "                                  do_create_pulse = True, do_upload_pulse = True, do_apply_pulse = True)\n",
    "    \n",
    "        time.sleep(1)\n",
    "    \n",
    "         #####################----------- Do BEPFM to image domain -----------#####################\n",
    "        dset_pfm, dset_chns, dset_cs = newexp.raster_scan(raster_parms_dict = {\"scan_pixel\": 64,\n",
    "                                                                               \"scan_x_start\": pulse_pos_x[measure_loc]-(img_size/2),\n",
    "                                                                               \"scan_y_start\": pulse_pos_y[measure_loc]-(img_size/2),\n",
    "                                                                               \"scan_x_stop\": pulse_pos_x[measure_loc]+(img_size/2),\n",
    "                                                                               \"scan_y_stop\": pulse_pos_y[measure_loc]+(img_size/2)},\n",
    "                                                          file_name = \"Domain_Writing_{}\".format(i), \n",
    "                                                          progress_on = False, plot_on = False)\n",
    "        time.sleep(0.5)\n",
    "    \n",
    "        # Plot BEPFM images\n",
    "        f, (ax1, ax2, ax3, ax4, ax5, ax6) = plt.subplots(1, 6, figsize = (30, 5), dpi = 100)\n",
    "        ax1.imshow(dset_pfm[:,:,0])\n",
    "        ax2.imshow(dset_pfm[:,:,1])\n",
    "        ax3.imshow(dset_pfm[:,:,2])\n",
    "        ax4.imshow(dset_pfm[:,:,3])\n",
    "        ax5.imshow(dset_chns[0,:,:])\n",
    "        ax6.imshow(dset_chns[1,:,:])\n",
    "        plt.show()\n",
    "    \n",
    "    \n",
    "        # Calculate domain size\n",
    "        pha = np.asarray(dset_pfm[:,:,3])\n",
    "        ds = domain_size (pha, 0.3)\n",
    "    \n",
    "        # send domain size to GPU server\n",
    "        ds = np.asarray(ds)\n",
    "        time.sleep(0.01)\n",
    "        s.send(measured_point)\n",
    "        time.sleep(0.01)\n",
    "    \n",
    "        exploration_domain_size.append(ds)  # add domain size to list\n",
    "    \n",
    "    # Save seed domain size\n",
    "    np.save(\"exploration_domain_size.npy\", np.asarray(exploration_domain_size))\n",
    "    \n",
    "    s.close()"
   ]
  },
  {
   "cell_type": "markdown",
   "id": "1d5d6775",
   "metadata": {},
   "source": [
    "\n",
    "### Step 11. Do a BEPFM at the whole experiment area"
   ]
  },
  {
   "cell_type": "code",
   "execution_count": null,
   "id": "e8a75e6d",
   "metadata": {},
   "outputs": [],
   "source": [
    "dset_pfm, dset_chns, dset_cs = newexp.raster_scan(raster_parms_dict = {\"scan_pixel\": 256, \"scan_x_start\": -1.0,\n",
    "                                                                       \"scan_y_start\": -1.0,\"scan_x_stop\": 1.0,\n",
    "                                                                       \"scan_y_stop\": 1.0}, file_name = \"pfm_whole\")\n",
    "\n",
    "f, (ax1, ax2, ax3, ax4, ax5, ax6) = plt.subplots(1, 6, figsize = (30, 5), dpi = 100)\n",
    "ax1.imshow(dset_pfm[:,:,0])\n",
    "ax2.imshow(dset_pfm[:,:,1])\n",
    "ax3.imshow(dset_pfm[:,:,2])\n",
    "ax4.imshow(dset_pfm[:,:,3])\n",
    "ax5.imshow(dset_chns[0,:,:])\n",
    "ax6.imshow(dset_chns[1,:,:])\n",
    "plt.show()"
   ]
  }
 ],
 "metadata": {
  "kernelspec": {
   "display_name": "Python 3 (ipykernel)",
   "language": "python",
   "name": "python3"
  },
  "language_info": {
   "codemirror_mode": {
    "name": "ipython",
    "version": 3
   },
   "file_extension": ".py",
   "mimetype": "text/x-python",
   "name": "python",
   "nbconvert_exporter": "python",
   "pygments_lexer": "ipython3",
   "version": "3.9.7"
  }
 },
 "nbformat": 4,
 "nbformat_minor": 5
}
