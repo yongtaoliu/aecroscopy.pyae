{
 "cells": [
  {
   "cell_type": "markdown",
   "id": "6bc2cadf",
   "metadata": {},
   "source": [
    "# Get Started\n",
    "\n",
    "\n",
    "$_{Yongtao}$ $_{Liu,}$ $_{liuy3@ornl.gov}$\n",
    "\n",
    "$_{July}$ $_{2023}$"
   ]
  },
  {
   "cell_type": "markdown",
   "id": "fbfb10f3",
   "metadata": {},
   "source": [
    "## Install\n",
    "\n",
    "This introduction shows how to install AEcroscopy"
   ]
  },
  {
   "cell_type": "markdown",
   "id": "682d0459",
   "metadata": {},
   "source": [
    "```{Attention}\n",
    "AEcroscopy is a Python package for seamless communications with Application Program Interface (API), PyAE and/or PyScanner. PyAE and PyScanner are crafted using ActiveX controls for Windows operating system. Therefore, for compatibility, we recommand install AEcroscopy in your Windows environment.\n",
    "```  "
   ]
  },
  {
   "cell_type": "markdown",
   "id": "39c604d7",
   "metadata": {},
   "source": [
    "### Using pip"
   ]
  },
  {
   "cell_type": "markdown",
   "id": "574545a4",
   "metadata": {},
   "source": [
    "The following code will install the latest version AEcroscopy"
   ]
  },
  {
   "cell_type": "code",
   "execution_count": null,
   "id": "ddea078a",
   "metadata": {},
   "outputs": [],
   "source": [
    "!pip install -i https://test.pypi.org/simple/ AEcroscoPy"
   ]
  },
  {
   "cell_type": "markdown",
   "id": "1b760225",
   "metadata": {},
   "source": [
    "To install a specific version AEcroscopy, e.g., 0.0.1"
   ]
  },
  {
   "cell_type": "code",
   "execution_count": null,
   "id": "96536dfd",
   "metadata": {},
   "outputs": [],
   "source": [
    "!pip install AEcroscoPy==0.1"
   ]
  },
  {
   "cell_type": "markdown",
   "id": "41c30725",
   "metadata": {},
   "source": [
    "Import Acquisition:"
   ]
  },
  {
   "cell_type": "code",
   "execution_count": null,
   "id": "c40bfb50",
   "metadata": {},
   "outputs": [],
   "source": [
    "from AEscorscoPy.acquisition import Acquisition"
   ]
  },
  {
   "cell_type": "markdown",
   "id": "a70c42d7",
   "metadata": {},
   "source": [
    "```{admonition} Trouble\n",
    "If you have trouble, please reach out on the forum or via email.\n",
    "```"
   ]
  }
 ],
 "metadata": {
  "kernelspec": {
   "display_name": "Python 3 (ipykernel)",
   "language": "python",
   "name": "python3"
  },
  "language_info": {
   "codemirror_mode": {
    "name": "ipython",
    "version": 3
   },
   "file_extension": ".py",
   "mimetype": "text/x-python",
   "name": "python",
   "nbconvert_exporter": "python",
   "pygments_lexer": "ipython3",
   "version": "3.10.9"
  }
 },
 "nbformat": 4,
 "nbformat_minor": 5
}
