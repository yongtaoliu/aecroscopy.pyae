{
 "cells": [
  {
   "cell_type": "markdown",
   "id": "6bc2cadf",
   "metadata": {},
   "source": [
    "# High Throughput Domain Writing Workflow\n",
    "\n",
    "\n",
    "\n",
    "\n",
    "${Yongtao}$ ${Liu}$\n",
    "\n",
    "${June}$ ${2023}$\n",
    "\n"
   ]
  },
  {
   "cell_type": "markdown",
   "id": "546ee24a",
   "metadata": {},
   "source": [
    "### Install and Import"
   ]
  },
  {
   "cell_type": "code",
   "execution_count": 1,
   "id": "4f2fc877",
   "metadata": {},
   "outputs": [],
   "source": [
    "import os\n",
    "import win32com.client\n",
    "import numpy as np\n",
    "import time\n",
    "import h5py\n",
    "import sidpy\n",
    "import pyNSID\n",
    "import matplotlib.pyplot as plt\n",
    "from tqdm import tqdm\n",
    "\n",
    "# import acquition.py\n",
    "from Acquisition_v0_9 import Acquisition   # include the Acquistion_v.py in the same directory"
   ]
  },
  {
   "cell_type": "markdown",
   "id": "836c05a8",
   "metadata": {},
   "source": [
    "### Start BEPyAE.exe and set VI\n",
    "\n",
    "* Start BEPyAE.ext\n",
    "* Set VI of BEPyAE; if this version includes PyScanner, also set VIs for PyScanner"
   ]
  },
  {
   "cell_type": "code",
   "execution_count": 3,
   "id": "91ee86f5",
   "metadata": {},
   "outputs": [],
   "source": [
    "newexp = Acquisition(exe_path = r\"C:\\Users\\yla\\Dropbox (ORNL)\\My Files\\AEcroscopy_BEPyAE\\BEPyAE_Labview\\BEPyAE 060523 01\\BEPyAE.exe\")   \n",
    "# exe_path is the directory of BEPyAE; "
   ]
  },
  {
   "cell_type": "markdown",
   "id": "93f421fa",
   "metadata": {},
   "source": [
    "### Initialize Igor AR18\n",
    "* Set offline development\n",
    "* Build a connection between BEPyAE and AR18\n",
    "* Get parameters in AR18"
   ]
  },
  {
   "cell_type": "code",
   "execution_count": 4,
   "id": "3b51e907",
   "metadata": {},
   "outputs": [],
   "source": [
    "newexp.init_BEPyAE(offline_development = True) # set offline_development=True if doing offline development\n",
    "                                                # executing this will also initlize AR18"
   ]
  },
  {
   "cell_type": "markdown",
   "id": "c963f382",
   "metadata": {},
   "source": [
    "> Hereinafter \n",
    "> * If no parameters are provided in a function, executing the function will utilize the default parameters within $BEPyAE.exe$.\n",
    "> * Certain functions provide feedback after execution, which can be disabled by setting $feedbackon=False$. This allows you to deactivate feedback during specific iterations or instances when it is not required.\n",
    "> * Note: For tip locations, -1 corresponds to the left-hand side on the x-axis and the bottom side on the y-axis, while 1 corresponds to the right-hand side on the x-axis and the top side on the y-axis."
   ]
  },
  {
   "cell_type": "markdown",
   "id": "a9a2988d",
   "metadata": {},
   "source": [
    "### Set tip parameters\n",
    "* set setpoint, tip locations\n",
    "\n",
    "![image1.PNG](../ht_workflows/image1.png)"
   ]
  },
  {
   "cell_type": "code",
   "execution_count": 5,
   "id": "7484a9a1",
   "metadata": {},
   "outputs": [
    {
     "name": "stdout",
     "output_type": "stream",
     "text": [
      "Setpoint is:  1.0\n",
      "Tip parameters are:  (-0.5, 0.5, 0.2)\n"
     ]
    }
   ],
   "source": [
    "newexp.tip_control(tip_parms_dict = {\"set_point_V_00\": 1, \"next_x_pos_00\": -0.5, \"next_y_pos_01\": 0.5},\n",
    "                   do_move_tip = True, \n",
    "                   do_set_setpoint = True) # Executing this code will set setpoint to 1 V, \n",
    "                                           # and move tip to location [0.5, 0.5]"
   ]
  },
  {
   "cell_type": "markdown",
   "id": "eea3d6d5",
   "metadata": {},
   "source": [
    "### Set IO \n",
    "This defines IO parameters, such as AFM platform: AR18, amplifiers, channel data types, etc"
   ]
  },
  {
   "cell_type": "code",
   "execution_count": 6,
   "id": "a3eb5cdf",
   "metadata": {},
   "outputs": [
    {
     "data": {
      "text/plain": [
       "('0 Cypher AR18',\n",
       " '6124',\n",
       " 4000000.0,\n",
       " 10.0,\n",
       " 10.0,\n",
       " 'AC and DC on AO0',\n",
       " 10.0,\n",
       " 'topography',\n",
       " 'current',\n",
       " 'aux',\n",
       " 'external')"
      ]
     },
     "execution_count": 6,
     "metadata": {},
     "output_type": "execute_result"
    }
   ],
   "source": [
    "newexp.define_io_cluster(IO_cluster_parms_dict = {\"analog_output_amplifier_06\": 1, \n",
    "                                                  \"channel_01_type_07\": 1, \n",
    "                                                  \"channel_02_type_08\": 2,\"channel_03_type_09\": 3,})"
   ]
  },
  {
   "cell_type": "markdown",
   "id": "702b917f",
   "metadata": {},
   "source": [
    "### Set BE pulse parameters "
   ]
  },
  {
   "cell_type": "code",
   "execution_count": 7,
   "id": "5b332c6c",
   "metadata": {},
   "outputs": [
    {
     "name": "stdout",
     "output_type": "stream",
     "text": [
      "BE parameters are:  (335000.0, 100000.0, 1.0, 1.0, 4, 0.004, 1, 3352.2952763920002, 0.12159459061880915)\n"
     ]
    }
   ],
   "source": [
    "# set BE parameters\n",
    "newexp.define_be_parms(be_parms_dict = {\"center_frequency_Hz_00\": 335, \"band_width_Hz_01\": 100,\n",
    "                                       \"amplitude_V_02\": 1, \"phase_variation_03\": 1,\n",
    "                                       \"repeats_04\": 4, \"req_pulse_duration_s_05\": 4,\n",
    "                                       \"auto_smooth_ring_06\": 1}, \n",
    "                      do_create_be_waveform = True)"
   ]
  },
  {
   "cell_type": "markdown",
   "id": "8af23d31",
   "metadata": {},
   "source": [
    "### Run a BE Line scan to test parameters\n",
    "* This is a single BE line scan\n",
    "* This returns 5 datasets: quick_fitting, complex spectra, and 3 channels"
   ]
  },
  {
   "cell_type": "code",
   "execution_count": 8,
   "id": "0a2d63a9",
   "metadata": {},
   "outputs": [
    {
     "name": "stdout",
     "output_type": "stream",
     "text": [
      "voltage offset and number of BE pulse are:  (0.0, 32)\n",
      "line scan start and end positions:  (-0.5, 0.0, 0.5, 0.0)\n"
     ]
    }
   ],
   "source": [
    "# Do a single line scan\n",
    "qk_fit, com_spec, chn1, chn2, chn3 = newexp.do_line_scan(line_scan_parms_dict = {\"num_BE_pulses_01\": 32,\n",
    "                                                                                 \"start_x_pos_00\": -0.5, \"start_y_pos_01\": 0,\n",
    "                                                                                 \"stop_x_pos_02\": 0.5, \"stop_y_pos_03\": 0},\n",
    "                                                         upload_to_daq = True, do_line_scan = True)"
   ]
  },
  {
   "cell_type": "markdown",
   "id": "d992d7b1",
   "metadata": {},
   "source": [
    "> *Tests Done*"
   ]
  },
  {
   "cell_type": "markdown",
   "id": "b57ddb0f",
   "metadata": {},
   "source": [
    "## Experiment Starts"
   ]
  },
  {
   "cell_type": "markdown",
   "id": "8acfbf78",
   "metadata": {},
   "source": [
    ">In this experiment, we begin by applying a DC pulse to switch the ferroelectric polarization. Subsequently, a BEPFM (Bias-Enhanced Piezoresponse Force Microscopy) measurement is conducted to image the domain structure.\n",
    "\n",
    "1. To initiate the measurement process, we first need to determine the location for each individual measurement. There are two scenarios to consider:\n",
    "\n",
    "> * For each measurement, a new location is chosen, requiring a location array to record all the measurements as demonstrated below.\n",
    "\n",
    "![image2.PNG](../ht_workflows/image2.png)\n",
    "\n",
    "> * Alternatively, all measurements are conducted at the same location. In this case, the measurement location needs to be initialized each time a new measurement is started, as shown below.\n",
    "\n",
    "![image3.PNG](../ht_workflows/image3.png)\n",
    "\n",
    "2. Prior to experiments, we also need to establish the DC pulse parameters including pulse magnitude $A$ and pulse length $t$ , as shown below. Again, there are two scenarios to consider here:\n",
    "\n",
    "![image4.PNG](../ht_workflows/image4.png)\n",
    "\n",
    "> * The pulse parameters can be pre-defined, e.g., the parameter values can be uniformly distributed within a specified range or customized to suit the experimental requirements.\n",
    "> * The pulse parameters can be random values within a defined space, typically these random values is a uniform distribution across that space in principle."
   ]
  },
  {
   "cell_type": "markdown",
   "id": "4ff7860e",
   "metadata": {},
   "source": [
    "## Experiment 1. Perform each measurement at a new location with pre-defined pulse parameters"
   ]
  },
  {
   "cell_type": "markdown",
   "id": "60a600bf",
   "metadata": {},
   "source": [
    "### Prior to expeirment, set a directory to save data"
   ]
  },
  {
   "cell_type": "code",
   "execution_count": 10,
   "id": "0f44615e",
   "metadata": {},
   "outputs": [],
   "source": [
    "os.chdir(r\"C:\\Users\\yla\\Dropbox (ORNL)\\My Files\\AEcroscopy_BEPyAE\")"
   ]
  },
  {
   "cell_type": "markdown",
   "id": "5f840f68",
   "metadata": {},
   "source": [
    "### Step 1. Generate a location array"
   ]
  },
  {
   "cell_type": "code",
   "execution_count": 11,
   "id": "f23cdb3f",
   "metadata": {},
   "outputs": [
    {
     "name": "stdout",
     "output_type": "stream",
     "text": [
      "4 locations are ready for experiments\n"
     ]
    }
   ],
   "source": [
    "# All locations span across [start_point_x, end_point_x] in x-direction and [start_point_y, end_point_y] in y-direction.\n",
    "# There are num_x rows and num_y columns in the locations array\n",
    "\n",
    "start_point_x = -0.9   # Define location array parameters\n",
    "end_point_x = 0.9\n",
    "start_point_y = -0.9\n",
    "end_point_y = 0.9\n",
    "num_x = 2\n",
    "num_y = 2\n",
    "\n",
    "# Generate location array\n",
    "pos_x = np.linspace(-0.9, 0.9, num_x)\n",
    "pos_y = np.linspace(-0.9, 0.9, num_y)\n",
    "pulse_pos = np.meshgrid(pos_x, pos_y)\n",
    "pulse_pos_x = pulse_pos[0].reshape(-1)\n",
    "pulse_pos_y = pulse_pos[1].reshape(-1)  # pulse_pos_x and pulse_pos_y are the coordinates of all locations\n",
    "\n",
    "# Set BEPFM image size\n",
    "img_size = 0.1\n",
    "\n",
    "# Check\n",
    "if img_size > np.abs(pos_x[0]-pos_x[1]):\n",
    "    print (\"Alert: there will be image overlap along x-direction\")\n",
    "elif img_size > np.abs(pos_y[0]-pos_y[1]):\n",
    "    print (\"Alert: there will be image overlap along y-direction\")\n",
    "else:\n",
    "    print(\"{} locations are ready for experiments\".format(len(pulse_pos_x)))"
   ]
  },
  {
   "cell_type": "markdown",
   "id": "64b9d37a",
   "metadata": {},
   "source": [
    "### Step 2. Establish pulse parameters "
   ]
  },
  {
   "cell_type": "code",
   "execution_count": 12,
   "id": "1ba3c782",
   "metadata": {},
   "outputs": [
    {
     "name": "stdout",
     "output_type": "stream",
     "text": [
      "4 pulse parameters are ready for expierments\n"
     ]
    }
   ],
   "source": [
    "# uniformly distributed pulse parameters\n",
    "min_voltage = 5\n",
    "max_voltage = 9\n",
    "Vdc_amp = np.linspace(min_voltage, max_voltage, num_x)  # pulse magnitude\n",
    "\n",
    "min_time_log = -4\n",
    "max_time_log = 1\n",
    "Vdc_time = np.linspace(min_time_log, max_time_log, num_y, dtype = np.float32())\n",
    "Vdc_time = np.power(10, Vdc_time)                 # pulse time\n",
    "\n",
    "# Establish pulse parameters\n",
    "Vdc = np.meshgrid(Vdc_amp, Vdc_time)\n",
    "Vdc_amp = Vdc[0].reshape(-1)\n",
    "Vdc_time = Vdc[1].reshape(-1)\n",
    "\n",
    "if len(Vdc_amp) > len(pulse_pos_x):\n",
    "    print (\"Error: No enough locations to test all pulse conditions\")\n",
    "else:\n",
    "    print (\"{} pulse parameters are ready for expierments\".format(len(Vdc_amp)))\n",
    "    \n",
    "# save pulse condition\n",
    "np.save(\"Vdc_list.npy\", np.asarray([Vdc_amp, Vdc_time]))"
   ]
  },
  {
   "cell_type": "markdown",
   "id": "ddeaa5a2",
   "metadata": {},
   "source": [
    "### Step 3. Start experiment"
   ]
  },
  {
   "cell_type": "code",
   "execution_count": 14,
   "id": "79c2b823",
   "metadata": {},
   "outputs": [
    {
     "name": "stderr",
     "output_type": "stream",
     "text": [
      "\r",
      "  0%|                                                                                            | 0/4 [00:00<?, ?it/s]"
     ]
    },
    {
     "name": "stdout",
     "output_type": "stream",
     "text": [
      "Setpoint is:  1.0\n",
      "Tip parameters are:  (-0.9, -0.9, 0.5)\n"
     ]
    },
    {
     "name": "stderr",
     "output_type": "stream",
     "text": [
      "C:\\Users\\yla\\AppData\\Local\\anaconda3\\lib\\site-packages\\pyNSID\\io\\hdf_utils.py:376: FutureWarning: validate_h5_dimension may be removed in a future version\n",
      "  warn('validate_h5_dimension may be removed in a future version',\n",
      "C:\\Users\\yla\\AppData\\Local\\anaconda3\\lib\\site-packages\\pyNSID\\io\\hdf_utils.py:376: FutureWarning: validate_h5_dimension may be removed in a future version\n",
      "  warn('validate_h5_dimension may be removed in a future version',\n",
      "C:\\Users\\yla\\AppData\\Local\\anaconda3\\lib\\site-packages\\pyNSID\\io\\hdf_utils.py:376: FutureWarning: validate_h5_dimension may be removed in a future version\n",
      "  warn('validate_h5_dimension may be removed in a future version',\n"
     ]
    },
    {
     "data": {
      "image/png": "[encoded data removed]",
      "text/plain": [
       "<Figure size 3000x500 with 6 Axes>"
      ]
     },
     "metadata": {},
     "output_type": "display_data"
    },
    {
     "name": "stderr",
     "output_type": "stream",
     "text": [
      "\r",
      " 25%|█████████████████████                                                               | 1/4 [00:28<01:25, 28.36s/it]"
     ]
    },
    {
     "name": "stdout",
     "output_type": "stream",
     "text": [
      "Setpoint is:  1.0\n",
      "Tip parameters are:  (0.9, -0.9, 0.5)\n"
     ]
    },
    {
     "name": "stderr",
     "output_type": "stream",
     "text": [
      "C:\\Users\\yla\\AppData\\Local\\anaconda3\\lib\\site-packages\\pyNSID\\io\\hdf_utils.py:376: FutureWarning: validate_h5_dimension may be removed in a future version\n",
      "  warn('validate_h5_dimension may be removed in a future version',\n",
      "C:\\Users\\yla\\AppData\\Local\\anaconda3\\lib\\site-packages\\pyNSID\\io\\hdf_utils.py:376: FutureWarning: validate_h5_dimension may be removed in a future version\n",
      "  warn('validate_h5_dimension may be removed in a future version',\n",
      "C:\\Users\\yla\\AppData\\Local\\anaconda3\\lib\\site-packages\\pyNSID\\io\\hdf_utils.py:376: FutureWarning: validate_h5_dimension may be removed in a future version\n",
      "  warn('validate_h5_dimension may be removed in a future version',\n"
     ]
    },
    {
     "data": {
      "image/png": "[encoded data removed]",
      "text/plain": [
       "<Figure size 3000x500 with 6 Axes>"
      ]
     },
     "metadata": {},
     "output_type": "display_data"
    },
    {
     "name": "stderr",
     "output_type": "stream",
     "text": [
      "\r",
      " 50%|██████████████████████████████████████████                                          | 2/4 [00:56<00:56, 28.33s/it]"
     ]
    },
    {
     "name": "stdout",
     "output_type": "stream",
     "text": [
      "Setpoint is:  1.0\n",
      "Tip parameters are:  (-0.9, 0.9, 0.5)\n"
     ]
    },
    {
     "name": "stderr",
     "output_type": "stream",
     "text": [
      "C:\\Users\\yla\\AppData\\Local\\anaconda3\\lib\\site-packages\\pyNSID\\io\\hdf_utils.py:376: FutureWarning: validate_h5_dimension may be removed in a future version\n",
      "  warn('validate_h5_dimension may be removed in a future version',\n",
      "C:\\Users\\yla\\AppData\\Local\\anaconda3\\lib\\site-packages\\pyNSID\\io\\hdf_utils.py:376: FutureWarning: validate_h5_dimension may be removed in a future version\n",
      "  warn('validate_h5_dimension may be removed in a future version',\n",
      "C:\\Users\\yla\\AppData\\Local\\anaconda3\\lib\\site-packages\\pyNSID\\io\\hdf_utils.py:376: FutureWarning: validate_h5_dimension may be removed in a future version\n",
      "  warn('validate_h5_dimension may be removed in a future version',\n"
     ]
    },
    {
     "data": {
      "image/png": "[encoded data removed]",
      "text/plain": [
       "<Figure size 3000x500 with 6 Axes>"
      ]
     },
     "metadata": {},
     "output_type": "display_data"
    },
    {
     "name": "stderr",
     "output_type": "stream",
     "text": [
      "\r",
      " 75%|███████████████████████████████████████████████████████████████                     | 3/4 [01:55<00:42, 42.22s/it]"
     ]
    },
    {
     "name": "stdout",
     "output_type": "stream",
     "text": [
      "Setpoint is:  1.0\n",
      "Tip parameters are:  (0.9, 0.9, 0.5)\n"
     ]
    },
    {
     "name": "stderr",
     "output_type": "stream",
     "text": [
      "C:\\Users\\yla\\AppData\\Local\\anaconda3\\lib\\site-packages\\pyNSID\\io\\hdf_utils.py:376: FutureWarning: validate_h5_dimension may be removed in a future version\n",
      "  warn('validate_h5_dimension may be removed in a future version',\n",
      "C:\\Users\\yla\\AppData\\Local\\anaconda3\\lib\\site-packages\\pyNSID\\io\\hdf_utils.py:376: FutureWarning: validate_h5_dimension may be removed in a future version\n",
      "  warn('validate_h5_dimension may be removed in a future version',\n",
      "C:\\Users\\yla\\AppData\\Local\\anaconda3\\lib\\site-packages\\pyNSID\\io\\hdf_utils.py:376: FutureWarning: validate_h5_dimension may be removed in a future version\n",
      "  warn('validate_h5_dimension may be removed in a future version',\n"
     ]
    },
    {
     "data": {
      "image/png": "[encoded data removed]",
      "text/plain": [
       "<Figure size 3000x500 with 6 Axes>"
      ]
     },
     "metadata": {},
     "output_type": "display_data"
    },
    {
     "name": "stderr",
     "output_type": "stream",
     "text": [
      "100%|████████████████████████████████████████████████████████████████████████████████████| 4/4 [02:53<00:00, 43.50s/it]\n"
     ]
    }
   ],
   "source": [
    "for i in tqdm(range(len(Vdc_amp))):\n",
    "    #####################----------- Move tip to the pulse location -----------##################### \n",
    "    newexp.tip_control(tip_parms_dict = {\"set_point_V_00\": 1,\n",
    "                                         \"next_x_pos_00\": pulse_pos_x[i],\n",
    "                                         \"next_y_pos_01\": pulse_pos_y[i]},\n",
    "                       do_move_tip = True, do_set_setpoint = True)\n",
    "    time.sleep(0.2)\n",
    "    \n",
    "    #####################----------- Apply pulse -----------##################### \n",
    "    V_amp = Vdc_amp[i]\n",
    "    V_time = Vdc_time[i]\n",
    "    newexp.define_apply_pulse(pulse_parms_dict = {\"pulse_init_amplitude_V_00\": 0, \"pulse_mid_amplitude_V_01\": V_amp,\n",
    "                                                  \"pulse_final_amplitude_V_02\": 0, \"pulse_on_duration_s_03\": V_time,\n",
    "                                                  \"rise_time_s_05\": 1E-4, \"pulse_final_duration_s_04\": 20E-3,\n",
    "                                                  \"pulse_repeats_06\": 1},\n",
    "                              do_create_pulse = True, do_upload_pulse = True, do_apply_pulse = False)\n",
    "    # \n",
    "    time.sleep(1)\n",
    "    newexp.define_apply_pulse(pulse_parms_dict = {\"pulse_init_amplitude_V_00\": 0, \"pulse_mid_amplitude_V_01\": V_amp,\n",
    "                                                  \"pulse_final_amplitude_V_02\": 0, \"pulse_on_duration_s_03\": V_time,\n",
    "                                                  \"rise_time_s_05\": 1E-4, \"pulse_final_duration_s_04\": 20E-3,\n",
    "                                                  \"pulse_repeats_06\": 1},\n",
    "                              do_create_pulse = True, do_upload_pulse = True, do_apply_pulse = True)\n",
    "    \n",
    "    time.sleep(2)\n",
    "    \n",
    "    #####################----------- Do BEPFM to image domain -----------#####################\n",
    "    dset_pfm, dset_chns, dset_cs = newexp.raster_scan(raster_parms_dict = {\"scan_pixel\": 16,\n",
    "                                                                           \"scan_x_start\": pulse_pos_x[i]-(img_size/2), \n",
    "                                                                           \"scan_y_start\": pulse_pos_y[i]-(img_size/2),\n",
    "                                                                           \"scan_x_stop\": pulse_pos_x[i]+(img_size/2), \n",
    "                                                                           \"scan_y_stop\": pulse_pos_y[i]+(img_size/2)},\n",
    "                                                      file_name = \"Domain_Writing_{}\".format(i), \n",
    "                                                      progress_on = False, ploton = False)\n",
    "    time.sleep(0.5)\n",
    "    \n",
    "    # Plot BEPFM images\n",
    "    f, (ax1, ax2, ax3, ax4, ax5, ax6) = plt.subplots(1, 6, figsize = (30, 5), dpi = 100)\n",
    "    ax1.imshow(dset_pfm[:,:,0])\n",
    "    ax2.imshow(dset_pfm[:,:,1])\n",
    "    ax3.imshow(dset_pfm[:,:,2])\n",
    "    ax4.imshow(dset_pfm[:,:,3])\n",
    "    ax5.imshow(dset_chns[0,:,:])\n",
    "    ax6.imshow(dset_chns[1,:,:])\n",
    "    plt.show()"
   ]
  },
  {
   "cell_type": "markdown",
   "id": "1d5d6775",
   "metadata": {},
   "source": [
    "### Step 4. Do a BEPFM at the whole experiment area"
   ]
  },
  {
   "cell_type": "code",
   "execution_count": 15,
   "id": "e8a75e6d",
   "metadata": {},
   "outputs": [
    {
     "name": "stderr",
     "output_type": "stream",
     "text": [
      " [progress: 0:00:35] |************************************  | (ETA:   0:00:01) C:\\Users\\yla\\AppData\\Local\\anaconda3\\lib\\site-packages\\pyNSID\\io\\hdf_utils.py:376: FutureWarning: validate_h5_dimension may be removed in a future version\n",
      "  warn('validate_h5_dimension may be removed in a future version',\n",
      "C:\\Users\\yla\\AppData\\Local\\anaconda3\\lib\\site-packages\\pyNSID\\io\\hdf_utils.py:376: FutureWarning: validate_h5_dimension may be removed in a future version\n",
      "  warn('validate_h5_dimension may be removed in a future version',\n",
      "C:\\Users\\yla\\AppData\\Local\\anaconda3\\lib\\site-packages\\pyNSID\\io\\hdf_utils.py:376: FutureWarning: validate_h5_dimension may be removed in a future version\n",
      "  warn('validate_h5_dimension may be removed in a future version',\n"
     ]
    },
    {
     "data": {
      "image/png": "[encoded data removed]",
      "text/plain": [
       "<Figure size 3000x500 with 6 Axes>"
      ]
     },
     "metadata": {},
     "output_type": "display_data"
    }
   ],
   "source": [
    "dset_pfm, dset_chns, dset_cs = newexp.raster_scan(raster_parms_dict = {\"scan_pixel\": 32, \"scan_x_start\": -1.0,\n",
    "                                                                       \"scan_y_start\": -1.0,\"scan_x_stop\": 1.0,\n",
    "                                                                       \"scan_y_stop\": 1.0}, \n",
    "                                                  file_name = \"pfm_whole\", ploton = False)\n",
    "\n",
    "f, (ax1, ax2, ax3, ax4, ax5, ax6) = plt.subplots(1, 6, figsize = (30, 5), dpi = 100)\n",
    "ax1.imshow(dset_pfm[:,:,0])\n",
    "ax2.imshow(dset_pfm[:,:,1])\n",
    "ax3.imshow(dset_pfm[:,:,2])\n",
    "ax4.imshow(dset_pfm[:,:,3])\n",
    "ax5.imshow(dset_chns[0,:,:])\n",
    "ax6.imshow(dset_chns[1,:,:])\n",
    "plt.show()"
   ]
  },
  {
   "cell_type": "markdown",
   "id": "ef5d9dea",
   "metadata": {},
   "source": [
    "## Experiment 2. Perform measurement with random pulse parameters"
   ]
  },
  {
   "cell_type": "markdown",
   "id": "46869c7b",
   "metadata": {},
   "source": [
    "### Prior to expeirment, set a directory to save data"
   ]
  },
  {
   "cell_type": "code",
   "execution_count": 16,
   "id": "440c636d",
   "metadata": {},
   "outputs": [],
   "source": [
    "os.chdir(r\"C:\\Users\\yla\\Dropbox (ORNL)\\My Files\\AEcroscopy_BEPyAE\")"
   ]
  },
  {
   "cell_type": "markdown",
   "id": "4885c30a",
   "metadata": {},
   "source": [
    "### Step 1. Generate a location array"
   ]
  },
  {
   "cell_type": "code",
   "execution_count": 17,
   "id": "9c35e5d2",
   "metadata": {},
   "outputs": [
    {
     "name": "stdout",
     "output_type": "stream",
     "text": [
      "4 locations are ready for experiments\n"
     ]
    }
   ],
   "source": [
    "# All locations span across [start_point_x, end_point_x] in x-direction and [start_point_y, end_point_y] in y-direction.\n",
    "# There are num_x rows and num_y columns in the locations array\n",
    "\n",
    "start_point_x = -0.9   # Define location array parameters\n",
    "end_point_x = 0.9\n",
    "start_point_y = -0.9\n",
    "end_point_y = 0.9\n",
    "num_x = 2\n",
    "num_y = 2\n",
    "\n",
    "# Generate location array\n",
    "pos_x = np.linspace(-0.9, 0.9, num_x)\n",
    "pos_y = np.linspace(-0.9, 0.9, num_y)\n",
    "pulse_pos = np.meshgrid(pos_x, pos_y)\n",
    "pulse_pos_x = pulse_pos[0].reshape(-1)\n",
    "pulse_pos_y = pulse_pos[1].reshape(-1)  # pulse_pos_x and pulse_pos_y are the coordinates of all locations\n",
    "\n",
    "# Set BEPFM image size\n",
    "img_size = 0.1\n",
    "\n",
    "# Check\n",
    "if img_size > np.abs(pos_x[0]-pos_x[1]):\n",
    "    print (\"Alert: there will be image overlap along x-direction\")\n",
    "elif img_size > np.abs(pos_y[0]-pos_y[1]):\n",
    "    print (\"Alert: there will be image overlap along y-direction\")\n",
    "else:\n",
    "    print(\"{} locations are ready for experiments\".format(len(pulse_pos_x)))"
   ]
  },
  {
   "cell_type": "markdown",
   "id": "e205288e",
   "metadata": {},
   "source": [
    "### Step 2. Establish pulse space"
   ]
  },
  {
   "cell_type": "code",
   "execution_count": 18,
   "id": "603c3d24",
   "metadata": {},
   "outputs": [],
   "source": [
    "# pulse magnitude space\n",
    "min_voltage = 5\n",
    "max_voltage = 9\n",
    "\n",
    "# pulse time space\n",
    "min_time_log = -4\n",
    "max_time_log = 1"
   ]
  },
  {
   "cell_type": "markdown",
   "id": "2398c889",
   "metadata": {},
   "source": [
    "### Step 3. Start experiment"
   ]
  },
  {
   "cell_type": "code",
   "execution_count": 19,
   "id": "b19cdd79",
   "metadata": {},
   "outputs": [
    {
     "name": "stderr",
     "output_type": "stream",
     "text": [
      "\r",
      "  0%|                                                                                          | 0/100 [00:00<?, ?it/s]"
     ]
    },
    {
     "name": "stdout",
     "output_type": "stream",
     "text": [
      "Setpoint is:  1.0\n",
      "Tip parameters are:  (-0.9, -0.9, 0.5)\n"
     ]
    },
    {
     "name": "stderr",
     "output_type": "stream",
     "text": [
      "C:\\Users\\yla\\AppData\\Local\\anaconda3\\lib\\site-packages\\pyNSID\\io\\hdf_utils.py:376: FutureWarning: validate_h5_dimension may be removed in a future version\n",
      "  warn('validate_h5_dimension may be removed in a future version',\n",
      "C:\\Users\\yla\\AppData\\Local\\anaconda3\\lib\\site-packages\\pyNSID\\io\\hdf_utils.py:376: FutureWarning: validate_h5_dimension may be removed in a future version\n",
      "  warn('validate_h5_dimension may be removed in a future version',\n",
      "C:\\Users\\yla\\AppData\\Local\\anaconda3\\lib\\site-packages\\pyNSID\\io\\hdf_utils.py:376: FutureWarning: validate_h5_dimension may be removed in a future version\n",
      "  warn('validate_h5_dimension may be removed in a future version',\n"
     ]
    },
    {
     "data": {
      "image/png": "[encoded data removed]",
      "text/plain": [
       "<Figure size 3000x500 with 6 Axes>"
      ]
     },
     "metadata": {},
     "output_type": "display_data"
    },
    {
     "name": "stderr",
     "output_type": "stream",
     "text": [
      "\r",
      "  1%|▊                                                                               | 1/100 [00:39<1:04:42, 39.22s/it]"
     ]
    },
    {
     "name": "stdout",
     "output_type": "stream",
     "text": [
      "Setpoint is:  1.0\n",
      "Tip parameters are:  (0.9, -0.9, 0.5)\n"
     ]
    },
    {
     "name": "stderr",
     "output_type": "stream",
     "text": [
      "C:\\Users\\yla\\AppData\\Local\\anaconda3\\lib\\site-packages\\pyNSID\\io\\hdf_utils.py:376: FutureWarning: validate_h5_dimension may be removed in a future version\n",
      "  warn('validate_h5_dimension may be removed in a future version',\n",
      "C:\\Users\\yla\\AppData\\Local\\anaconda3\\lib\\site-packages\\pyNSID\\io\\hdf_utils.py:376: FutureWarning: validate_h5_dimension may be removed in a future version\n",
      "  warn('validate_h5_dimension may be removed in a future version',\n",
      "C:\\Users\\yla\\AppData\\Local\\anaconda3\\lib\\site-packages\\pyNSID\\io\\hdf_utils.py:376: FutureWarning: validate_h5_dimension may be removed in a future version\n",
      "  warn('validate_h5_dimension may be removed in a future version',\n"
     ]
    },
    {
     "data": {
      "image/png": "[encoded data removed]",
      "text/plain": [
       "<Figure size 3000x500 with 6 Axes>"
      ]
     },
     "metadata": {},
     "output_type": "display_data"
    },
    {
     "name": "stderr",
     "output_type": "stream",
     "text": [
      "\r",
      "  2%|█▌                                                                              | 2/100 [01:16<1:02:08, 38.05s/it]"
     ]
    },
    {
     "name": "stdout",
     "output_type": "stream",
     "text": [
      "Setpoint is:  1.0\n",
      "Tip parameters are:  (-0.9, 0.9, 0.5)\n"
     ]
    },
    {
     "name": "stderr",
     "output_type": "stream",
     "text": [
      "C:\\Users\\yla\\AppData\\Local\\anaconda3\\lib\\site-packages\\pyNSID\\io\\hdf_utils.py:376: FutureWarning: validate_h5_dimension may be removed in a future version\n",
      "  warn('validate_h5_dimension may be removed in a future version',\n",
      "C:\\Users\\yla\\AppData\\Local\\anaconda3\\lib\\site-packages\\pyNSID\\io\\hdf_utils.py:376: FutureWarning: validate_h5_dimension may be removed in a future version\n",
      "  warn('validate_h5_dimension may be removed in a future version',\n",
      "C:\\Users\\yla\\AppData\\Local\\anaconda3\\lib\\site-packages\\pyNSID\\io\\hdf_utils.py:376: FutureWarning: validate_h5_dimension may be removed in a future version\n",
      "  warn('validate_h5_dimension may be removed in a future version',\n"
     ]
    },
    {
     "data": {
      "image/png": "[encoded data removed]",
      "text/plain": [
       "<Figure size 3000x500 with 6 Axes>"
      ]
     },
     "metadata": {},
     "output_type": "display_data"
    },
    {
     "name": "stderr",
     "output_type": "stream",
     "text": [
      "\r",
      "  3%|██▍                                                                               | 3/100 [01:45<54:46, 33.88s/it]"
     ]
    },
    {
     "name": "stdout",
     "output_type": "stream",
     "text": [
      "Setpoint is:  1.0\n",
      "Tip parameters are:  (0.9, 0.9, 0.5)\n"
     ]
    },
    {
     "name": "stderr",
     "output_type": "stream",
     "text": [
      "C:\\Users\\yla\\AppData\\Local\\anaconda3\\lib\\site-packages\\pyNSID\\io\\hdf_utils.py:376: FutureWarning: validate_h5_dimension may be removed in a future version\n",
      "  warn('validate_h5_dimension may be removed in a future version',\n",
      "C:\\Users\\yla\\AppData\\Local\\anaconda3\\lib\\site-packages\\pyNSID\\io\\hdf_utils.py:376: FutureWarning: validate_h5_dimension may be removed in a future version\n",
      "  warn('validate_h5_dimension may be removed in a future version',\n",
      "C:\\Users\\yla\\AppData\\Local\\anaconda3\\lib\\site-packages\\pyNSID\\io\\hdf_utils.py:376: FutureWarning: validate_h5_dimension may be removed in a future version\n",
      "  warn('validate_h5_dimension may be removed in a future version',\n"
     ]
    },
    {
     "data": {
      "image/png": "[encoded data removed]",
      "text/plain": [
       "<Figure size 3000x500 with 6 Axes>"
      ]
     },
     "metadata": {},
     "output_type": "display_data"
    },
    {
     "name": "stderr",
     "output_type": "stream",
     "text": [
      "  4%|███▎                                                                              | 4/100 [02:19<55:50, 34.90s/it]\n"
     ]
    },
    {
     "ename": "IndexError",
     "evalue": "index 4 is out of bounds for axis 0 with size 4",
     "output_type": "error",
     "traceback": [
      "\u001b[1;31m---------------------------------------------------------------------------\u001b[0m",
      "\u001b[1;31mIndexError\u001b[0m                                Traceback (most recent call last)",
      "Cell \u001b[1;32mIn[19], line 11\u001b[0m\n\u001b[0;32m      7\u001b[0m \u001b[38;5;66;03m# Measurement starts\u001b[39;00m\n\u001b[0;32m      8\u001b[0m \u001b[38;5;28;01mfor\u001b[39;00m i \u001b[38;5;129;01min\u001b[39;00m tqdm(\u001b[38;5;28mrange\u001b[39m(iterations)):\n\u001b[0;32m      9\u001b[0m     \u001b[38;5;66;03m#####################----------- Move tip to the pulse location -----------##################### \u001b[39;00m\n\u001b[0;32m     10\u001b[0m     newexp\u001b[38;5;241m.\u001b[39mtip_control(tip_parms_dict \u001b[38;5;241m=\u001b[39m {\u001b[38;5;124m\"\u001b[39m\u001b[38;5;124mset_point_V_00\u001b[39m\u001b[38;5;124m\"\u001b[39m: \u001b[38;5;241m1\u001b[39m,\n\u001b[1;32m---> 11\u001b[0m                                          \u001b[38;5;124m\"\u001b[39m\u001b[38;5;124mnext_x_pos_00\u001b[39m\u001b[38;5;124m\"\u001b[39m: \u001b[43mpulse_pos_x\u001b[49m\u001b[43m[\u001b[49m\u001b[43mi\u001b[49m\u001b[43m]\u001b[49m,\n\u001b[0;32m     12\u001b[0m                                          \u001b[38;5;124m\"\u001b[39m\u001b[38;5;124mnext_y_pos_01\u001b[39m\u001b[38;5;124m\"\u001b[39m: pulse_pos_y[i]},\n\u001b[0;32m     13\u001b[0m                        do_move_tip \u001b[38;5;241m=\u001b[39m \u001b[38;5;28;01mTrue\u001b[39;00m, do_set_setpoint \u001b[38;5;241m=\u001b[39m \u001b[38;5;28;01mTrue\u001b[39;00m)\n\u001b[0;32m     14\u001b[0m     time\u001b[38;5;241m.\u001b[39msleep(\u001b[38;5;241m0.2\u001b[39m)\n\u001b[0;32m     16\u001b[0m     \u001b[38;5;66;03m#####################----------- Apply pulse -----------##################### \u001b[39;00m\n\u001b[0;32m     17\u001b[0m     \u001b[38;5;66;03m# Random pulse parameters\u001b[39;00m\n",
      "\u001b[1;31mIndexError\u001b[0m: index 4 is out of bounds for axis 0 with size 4"
     ]
    }
   ],
   "source": [
    "# Set measurement iteration number\n",
    "iterations = 100\n",
    "# Set lists to save pulse parameters\n",
    "Vdc_amp = []\n",
    "Vdc_time = []\n",
    "\n",
    "# Measurement starts\n",
    "for i in tqdm(range(iterations)):\n",
    "    #####################----------- Move tip to the pulse location -----------##################### \n",
    "    newexp.tip_control(tip_parms_dict = {\"set_point_V_00\": 1,\n",
    "                                         \"next_x_pos_00\": pulse_pos_x[i],\n",
    "                                         \"next_y_pos_01\": pulse_pos_y[i]},\n",
    "                       do_move_tip = True, do_set_setpoint = True)\n",
    "    time.sleep(0.2)\n",
    "    \n",
    "    #####################----------- Apply pulse -----------##################### \n",
    "    # Random pulse parameters\n",
    "    V_amp = np.random.uniform(min_voltage, max_voltage)\n",
    "    V_time = np.random.uniform(min_time_log, max_time_log)\n",
    "    V_time = np.power(10, V_time)\n",
    "    # Add parameters to Vdc lists\n",
    "    Vdc_amp.append(V_amp)\n",
    "    Vdc_time.append(V_time)\n",
    "    \n",
    "    # Apply pulse\n",
    "    newexp.define_apply_pulse(pulse_parms_dict = {\"pulse_init_amplitude_V_00\": 0, \"pulse_mid_amplitude_V_01\": V_amp,\n",
    "                                                  \"pulse_final_amplitude_V_02\": 0, \"pulse_on_duration_s_03\": V_time,\n",
    "                                                  \"rise_time_s_05\": 1E-4, \"pulse_final_duration_s_04\": 20E-3,\n",
    "                                                  \"pulse_repeats_06\": 1},\n",
    "                              do_create_pulse = True, do_upload_pulse = True, do_apply_pulse = False)\n",
    "    # \n",
    "    time.sleep(1)\n",
    "    newexp.define_apply_pulse(pulse_parms_dict = {\"pulse_init_amplitude_V_00\": 0, \"pulse_mid_amplitude_V_01\": V_amp,\n",
    "                                                  \"pulse_final_amplitude_V_02\": 0, \"pulse_on_duration_s_03\": V_time,\n",
    "                                                  \"rise_time_s_05\": 1E-4, \"pulse_final_duration_s_04\": 20E-3,\n",
    "                                                  \"pulse_repeats_06\": 1},\n",
    "                              do_create_pulse = True, do_upload_pulse = True, do_apply_pulse = True)\n",
    "    \n",
    "    time.sleep(2)\n",
    "    \n",
    "    #####################----------- Do BEPFM to image domain -----------#####################\n",
    "    dset_pfm, dset_chns, dset_cs = newexp.raster_scan(raster_parms_dict = {\"scan_pixel\": 16,\n",
    "                                                                           \"scan_x_start\": pulse_pos_x[i]-(img_size/2), \n",
    "                                                                           \"scan_y_start\": pulse_pos_y[i]-(img_size/2),\n",
    "                                                                           \"scan_x_stop\": pulse_pos_x[i]+(img_size/2), \n",
    "                                                                           \"scan_y_stop\": pulse_pos_y[i]+(img_size/2)},\n",
    "                                                      file_name = \"Domain_Writing_{}\".format(i), \n",
    "                                                      progress_on = False, ploton = False)\n",
    "    time.sleep(0.5)\n",
    "    \n",
    "    # Plot BEPFM images\n",
    "    f, (ax1, ax2, ax3, ax4, ax5, ax6) = plt.subplots(1, 6, figsize = (30, 5), dpi = 100)\n",
    "    ax1.imshow(dset_pfm[:,:,0])\n",
    "    ax2.imshow(dset_pfm[:,:,1])\n",
    "    ax3.imshow(dset_pfm[:,:,2])\n",
    "    ax4.imshow(dset_pfm[:,:,3])\n",
    "    ax5.imshow(dset_chns[0,:,:])\n",
    "    ax6.imshow(dset_chns[1,:,:])\n",
    "    plt.show()\n",
    "\n",
    "# Save pulse parameters\n",
    "np.save(\"Vdc_list.npy\", np.asarray([Vdc_amp, Vdc_time]))"
   ]
  },
  {
   "cell_type": "markdown",
   "id": "f6729043",
   "metadata": {},
   "source": [
    "### Step 4. Do a BEPFM at the whole experiment area"
   ]
  },
  {
   "cell_type": "code",
   "execution_count": null,
   "id": "2c34a322",
   "metadata": {},
   "outputs": [],
   "source": [
    "dset_pfm, dset_chns, dset_cs = newexp.raster_scan(raster_parms_dict = {\"scan_pixel\": 32, \"scan_x_start\": -1.0,\n",
    "                                                                       \"scan_y_start\": -1.0,\"scan_x_stop\": 1.0,\n",
    "                                                                       \"scan_y_stop\": 1.0}, \n",
    "                                                  file_name = \"pfm_whole\", ploton = False)\n",
    "\n",
    "f, (ax1, ax2, ax3, ax4, ax5, ax6) = plt.subplots(1, 6, figsize = (30, 5), dpi = 100)\n",
    "ax1.imshow(dset_pfm[:,:,0])\n",
    "ax2.imshow(dset_pfm[:,:,1])\n",
    "ax3.imshow(dset_pfm[:,:,2])\n",
    "ax4.imshow(dset_pfm[:,:,3])\n",
    "ax5.imshow(dset_chns[0,:,:])\n",
    "ax6.imshow(dset_chns[1,:,:])\n",
    "plt.show()"
   ]
  },
  {
   "cell_type": "code",
   "execution_count": null,
   "id": "c63e584a",
   "metadata": {},
   "outputs": [],
   "source": []
  }
 ],
 "metadata": {
  "kernelspec": {
   "display_name": "Python 3 (ipykernel)",
   "language": "python",
   "name": "python3"
  },
  "language_info": {
   "codemirror_mode": {
    "name": "ipython",
    "version": 3
   },
   "file_extension": ".py",
   "mimetype": "text/x-python",
   "name": "python",
   "nbconvert_exporter": "python",
   "pygments_lexer": "ipython3",
   "version": "3.10.9"
  }
 },
 "nbformat": 4,
 "nbformat_minor": 5
}
