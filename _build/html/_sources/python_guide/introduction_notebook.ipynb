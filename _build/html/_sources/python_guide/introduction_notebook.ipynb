{
 "cells": [
  {
   "cell_type": "markdown",
   "id": "6bc2cadf",
   "metadata": {},
   "source": [
    "# Guide to Essential Commands and Functionalities in AEcroscopy\n",
    "\n",
    "\n",
    "${Yongtao}$ ${Liu}$\n",
    "\n",
    "${June}$ ${2023}$"
   ]
  },
  {
   "cell_type": "markdown",
   "id": "08e6102a",
   "metadata": {},
   "source": [
    "Welcome to our comprehensive guide to the AEcroscopy for scanning probe microscopy (SPM). AEcroscopy is a decdicated Python package incorporating a wide range of commands and functions that facilitate basic microscope operations with BEPyAE.exe, enabling users to perform tasks with ease. \n",
    "\n",
    "Here, we will introduce you to the essential Python commands and functions available within the AEcroscopy. We will explore their capabilities, syntax, and usage, empowering you to harness the full potential of the AEcroscopy-BEPyAE-SPM system.\n",
    "Whether you are a seasoned Python developer or new to the world of programming, a experienced SPM users or new to the microscope society, this chapter will serve as a foundation for your journey into the exciting realm of Python-controlled SPM. \n",
    "\n",
    "By utilizing AEcroscopy, you will gain the ability to write and execute SPM experiments in Python, revolutionizing the way we perform the microscope experiments."
   ]
  },
  {
   "cell_type": "markdown",
   "id": "fbfb10f3",
   "metadata": {},
   "source": [
    "### Install and Import\n",
    "\n",
    "First thing first, we need to install and import necessary packages, including AEcroscopy."
   ]
  },
  {
   "cell_type": "code",
   "execution_count": 1,
   "id": "4f2fc877",
   "metadata": {},
   "outputs": [],
   "source": [
    "import os\n",
    "import win32com.client\n",
    "import numpy as np\n",
    "import time\n",
    "import h5py\n",
    "import sidpy\n",
    "import pyNSID\n",
    "import matplotlib.pyplot as plt\n",
    "from tqdm import tqdm\n",
    "\n",
    "# import acquition.py\n",
    "from Acquisition_v0_9 import Acquisition   # include the Acquistion_v.py in the same directory"
   ]
  },
  {
   "cell_type": "markdown",
   "id": "d3dd4fbb",
   "metadata": {},
   "source": [
    "### Start BEPyAE.exe and set VI\n",
    "\n",
    "Then, we need to start the Python API BEPyAE.exe.\n",
    "*  Start BEPyAE.exe\n",
    "*  Set VI of BEPyAE; if this version includes PyScanner, also set VIs for PyScanner"
   ]
  },
  {
   "cell_type": "code",
   "execution_count": 2,
   "id": "91ee86f5",
   "metadata": {},
   "outputs": [],
   "source": [
    "newexp = Acquisition(exe_path = r\"C:\\Users\\yla\\Dropbox (ORNL)\\My Files\\AEcroscopy_BEPyAE\\BEPyAE_Labview\\BEPyAE 060523 01\\BEPyAE.exe\")  # exe_path is the directory of BEPyAE; "
   ]
  },
  {
   "cell_type": "markdown",
   "id": "93f421fa",
   "metadata": {},
   "source": [
    "### Initialize Igor AR18\n",
    "\n",
    "Here, we connect BEPyAE with the microscope\n",
    "* Set offline development. If you are doing offline development, set offline_development=True, otherwise, if you are running microscope measurement, set offline_development=False\n",
    "\n",
    "\n",
    "Executing $init\\_BEPyAE()$ command will also:\n",
    "* Build a connection between BEPyAE and AR18\n",
    "* Get parameters in AR18"
   ]
  },
  {
   "cell_type": "code",
   "execution_count": 3,
   "id": "3b51e907",
   "metadata": {},
   "outputs": [],
   "source": [
    "newexp.init_BEPyAE(offline_development = True) # set offline_development=True if doing offline development\n",
    "                                               # executing this will also initlize AR18"
   ]
  },
  {
   "cell_type": "markdown",
   "id": "69d35238",
   "metadata": {},
   "source": [
    ">##### Hereinafter \n",
    ">* if no parameter is input in a function, when you execute the function, it will take the default parameters in BEPyAE.exe\n",
    ">* Some functions print feedback after execution. This feedback can be turned off by setting feedbackon = False. You can turn off feedback when you include this function in some iterations.\n",
    ">* Note: Tip locations: -1 is the left handside for x-axis and bottom side for y-axis, 1 is the right handside for x-axis and top side for y-axis"
   ]
  },
  {
   "cell_type": "markdown",
   "id": "756ab303",
   "metadata": {},
   "source": [
    "### Set tip parameters\n",
    "Here, we use $tip\\_control()$ function to set setpoint. \n",
    "\n",
    "\n",
    "$tip\\_control()$ function also allows us to move tip to a specific location [next_x_pos_00, next_y_pos_01], e.g., in the below example, the tip will be moved to locaiton [0.5, 0.5]\n",
    "\n",
    "\n",
    "![image1.PNG](../python_guide/image1.png)\n"
   ]
  },
  {
   "cell_type": "code",
   "execution_count": 4,
   "id": "7484a9a1",
   "metadata": {},
   "outputs": [],
   "source": [
    "newexp.tip_control(tip_parms_dict = {\"set_point_V_00\": 1, \"next_x_pos_00\": 0.5, \"next_y_pos_01\": 0.5},\n",
    "                   do_move_tip = True, \n",
    "                   do_set_setpoint = True,\n",
    "                   feedbackon=False) # Executing this code will set setpoint to 1 V, \n",
    "                                     # and move tip to location [0.5, 0.5]"
   ]
  },
  {
   "cell_type": "markdown",
   "id": "eea3d6d5",
   "metadata": {},
   "source": [
    "### Set IO\n",
    "In order for the Python code to provide the correct commands, it is essential to provide the hardware components (e.g., AFM platform, voltage amplifiers, channel data, etc.) involved in our experiment. Thus, here we set information about hardwares with function $define\\_io\\_cluster()$."
   ]
  },
  {
   "cell_type": "code",
   "execution_count": 5,
   "id": "a3eb5cdf",
   "metadata": {},
   "outputs": [
    {
     "data": {
      "text/plain": [
       "('0 Cypher AR18',\n",
       " '6124',\n",
       " 4000000.0,\n",
       " 10.0,\n",
       " 10.0,\n",
       " 'AC and DC on AO0',\n",
       " 1.0,\n",
       " 'none',\n",
       " 'none',\n",
       " 'none',\n",
       " 'external')"
      ]
     },
     "execution_count": 5,
     "metadata": {},
     "output_type": "execute_result"
    }
   ],
   "source": [
    "newexp.define_io_cluster(IO_cluster_parms_dict = {\"analog_output_amplifier_06\": 1, \n",
    "                                                  \"channel_01_type_07\": 1, \n",
    "                                                  \"channel_02_type_08\": 2,\n",
    "                                                  \"channel_03_type_09\": 3})"
   ]
  },
  {
   "cell_type": "markdown",
   "id": "3b5d9da6",
   "metadata": {},
   "source": [
    "------------------------------------------------------------------------------------------\n",
    "                                          BEPFM Measurement"
   ]
  },
  {
   "cell_type": "markdown",
   "id": "702b917f",
   "metadata": {},
   "source": [
    "### Set BE pulse parameters\n",
    "One of the most popular experiment we can perform with AEcroscopy-BEPyAE.exe is the band excition (BE) piezoresponse force microscopy experiments. Here we use $define\\_be\\_parms()$ to set BE pulse parameters."
   ]
  },
  {
   "cell_type": "code",
   "execution_count": 6,
   "id": "5b332c6c",
   "metadata": {},
   "outputs": [],
   "source": [
    "# set BE parameters\n",
    "newexp.define_be_parms(be_parms_dict = {\"center_frequency_Hz_00\": 335, \"band_width_Hz_01\": 100,\n",
    "                                       \"amplitude_V_02\": 1, \"phase_variation_03\": 1,\n",
    "                                       \"repeats_04\": 4, \"req_pulse_duration_s_05\": 4,\n",
    "                                       \"auto_smooth_ring_06\": 1}, \n",
    "                      do_create_be_waveform = True, feedbackon=False)"
   ]
  },
  {
   "cell_type": "markdown",
   "id": "8af23d31",
   "metadata": {},
   "source": [
    "### BE Line scan\n",
    "\n",
    "After setting BE pulse parameters, we can start to do BE line measurement with the function $do\\_line\\_scan()$. In this function, we will need to provide the BE line scan pixel (i.e., num_BE_Pulses_01) and BE line scan locations (i.e. start location and stop location). \n",
    "\n",
    "Note that\n",
    "* This fucntion is just a single BE line scan, not a raster image\n",
    "* This fucntion returns 5 datasets: quick_fitting, complex spectra, and 3 channel data"
   ]
  },
  {
   "cell_type": "code",
   "execution_count": 7,
   "id": "0a2d63a9",
   "metadata": {},
   "outputs": [
    {
     "name": "stdout",
     "output_type": "stream",
     "text": [
      "voltage offset and number of BE pulse are:  (0.0, 32)\n",
      "line scan start and end positions:  (-0.5, 0.0, 0.5, 0.0)\n"
     ]
    }
   ],
   "source": [
    "# Do a single line scan\n",
    "qk_fit, com_spec, chn1, chn2, chn3 = newexp.do_line_scan(line_scan_parms_dict = {\"num_BE_pulses_01\": 32,\n",
    "                                                                                 \"start_x_pos_00\": -0.5, \"start_y_pos_01\": 0,\n",
    "                                                                                 \"stop_x_pos_02\": 0.5, \"stop_y_pos_03\": 0},\n",
    "                                                         upload_to_daq = True, do_line_scan = True)"
   ]
  },
  {
   "cell_type": "markdown",
   "id": "6f32f646",
   "metadata": {},
   "source": [
    "### BE Raster Scan\n",
    "We can also perform a square raster scan BE measurement using the function $raster\\_scan()$. In this function, we need to provide the raster scan pixel (i.e., $scan\\_pixel$) and scan region (i.e., scan start and stop points).\n",
    "\n",
    "\n",
    "Note that\n",
    "* raster_scan returns 3 sidpy datasets: BEPFM quick fitting, channels, and BE complex spectra\n",
    "* raster_scan also saves these 3 sidpy dataset in a h5 file named $file\\_name$"
   ]
  },
  {
   "cell_type": "code",
   "execution_count": 8,
   "id": "b383fa41",
   "metadata": {},
   "outputs": [
    {
     "data": {
      "image/png": "[encoded data removed]",
      "text/plain": [
       "<Figure size 2800x400 with 14 Axes>"
      ]
     },
     "metadata": {},
     "output_type": "display_data"
    },
    {
     "name": "stderr",
     "output_type": "stream",
     "text": [
      " [progress: 0:00:38] |************************************  | (ETA:   0:00:01) C:\\Users\\yla\\AppData\\Local\\anaconda3\\lib\\site-packages\\pyNSID\\io\\hdf_utils.py:376: FutureWarning: validate_h5_dimension may be removed in a future version\n",
      "  warn('validate_h5_dimension may be removed in a future version',\n",
      "C:\\Users\\yla\\AppData\\Local\\anaconda3\\lib\\site-packages\\pyNSID\\io\\hdf_utils.py:376: FutureWarning: validate_h5_dimension may be removed in a future version\n",
      "  warn('validate_h5_dimension may be removed in a future version',\n",
      "C:\\Users\\yla\\AppData\\Local\\anaconda3\\lib\\site-packages\\pyNSID\\io\\hdf_utils.py:376: FutureWarning: validate_h5_dimension may be removed in a future version\n",
      "  warn('validate_h5_dimension may be removed in a future version',\n"
     ]
    }
   ],
   "source": [
    "# Do a 64*64 raster scan\n",
    "dset_pfm, dset_chns, dset_cs = newexp.raster_scan(raster_parms_dict = {\"scan_pixel\": 32, \"scan_x_start\": -0.8,\n",
    "                                                                       \"scan_y_start\": -0.8,\"scan_x_stop\": 0.8,\n",
    "                                                                       \"scan_y_stop\": 0.8}, file_name = \"test\")\n",
    "\n",
    "# if you see below error, check if you set IO channels manually---this has to be done manually now\n",
    " ### TypeError: When specifying values over which a parameter is varied, values should not be an empty array"
   ]
  },
  {
   "cell_type": "markdown",
   "id": "46878dcb",
   "metadata": {},
   "source": [
    "#### BE Raster Scan Results\n",
    "\n",
    "We can visualize BE raster scan results inlcuding quick fitting images and channel images."
   ]
  },
  {
   "cell_type": "code",
   "execution_count": 9,
   "id": "dc7e3220",
   "metadata": {},
   "outputs": [
    {
     "name": "stdout",
     "output_type": "stream",
     "text": [
      "sidpy.Dataset of type IMAGE_STACK with:\n",
      " dask.array<array, shape=(32, 32, 5), dtype=float64, chunksize=(32, 32, 5), chunktype=numpy.ndarray>\n",
      " data contains: quick fit pfm (generic)\n",
      " and Dimensions: \n",
      "y axis:  y axis (m) of size (32,)\n",
      "x axis:  x axis (m) of size (32,)\n",
      "BE responses:  channels (generic) of size (5,)\n"
     ]
    },
    {
     "data": {
      "text/plain": [
       "<matplotlib.image.AxesImage at 0x1ba0b485a50>"
      ]
     },
     "execution_count": 9,
     "metadata": {},
     "output_type": "execute_result"
    },
    {
     "data": {
      "image/png": "[encoded data removed]",
      "text/plain": [
       "<Figure size 2000x500 with 4 Axes>"
      ]
     },
     "metadata": {},
     "output_type": "display_data"
    }
   ],
   "source": [
    "# Quick fit BE images\n",
    "print(dset_pfm)  # sidpy dataset of BE quick fit\n",
    "\n",
    "# plot BEPFM quick fit data\n",
    "f, (ax1, ax2, ax3, ax4) = plt.subplots(1, 4, figsize = (20, 5), dpi = 100)\n",
    "ax1.imshow(dset_pfm[:,:,0])\n",
    "ax2.imshow(dset_pfm[:,:,1])\n",
    "ax3.imshow(dset_pfm[:,:,2])\n",
    "ax4.imshow(dset_pfm[:,:,3])"
   ]
  },
  {
   "cell_type": "code",
   "execution_count": 10,
   "id": "2ead8383",
   "metadata": {},
   "outputs": [
    {
     "name": "stdout",
     "output_type": "stream",
     "text": [
      "sidpy.Dataset of type IMAGE_STACK with:\n",
      " dask.array<array, shape=(3, 32, 32, 1), dtype=float64, chunksize=(3, 32, 32, 1), chunktype=numpy.ndarray>\n",
      " data contains: channels (generic)\n",
      " and Dimensions: \n",
      "y axis:  y axis (m) of size (3,)\n",
      "x axis:  x axis (m) of size (32,)\n",
      "channels images:  channels (generic) of size (32,)\n",
      "d:  generic (generic) of size (1,)\n"
     ]
    },
    {
     "data": {
      "text/plain": [
       "<matplotlib.image.AxesImage at 0x1ba0b4448e0>"
      ]
     },
     "execution_count": 10,
     "metadata": {},
     "output_type": "execute_result"
    },
    {
     "data": {
      "image/png": "[encoded data removed]",
      "text/plain": [
       "<Figure size 1500x500 with 3 Axes>"
      ]
     },
     "metadata": {},
     "output_type": "display_data"
    }
   ],
   "source": [
    "# Channel images\n",
    "print(dset_chns)  # sidpy dataset of channels\n",
    "\n",
    "# plot channel data\n",
    "f, (ax1, ax2, ax3) = plt.subplots(1, 3, figsize = (15, 5), dpi = 100)\n",
    "ax1.imshow(dset_chns[0,:,:])\n",
    "ax2.imshow(dset_chns[1,:,:])\n",
    "ax3.imshow(dset_chns[2,:,:])"
   ]
  },
  {
   "cell_type": "code",
   "execution_count": 11,
   "id": "17495986",
   "metadata": {},
   "outputs": [
    {
     "data": {
      "text/html": [
       "<table>\n",
       "    <tr>\n",
       "        <td>\n",
       "            <table>\n",
       "                <thead>\n",
       "                    <tr>\n",
       "                        <td> </td>\n",
       "                        <th> Array </th>\n",
       "                        <th> Chunk </th>\n",
       "                    </tr>\n",
       "                </thead>\n",
       "                <tbody>\n",
       "                    \n",
       "                    <tr>\n",
       "                        <th> Bytes </th>\n",
       "                        <td> 0.97 MiB </td>\n",
       "                        <td> 0.97 MiB </td>\n",
       "                    </tr>\n",
       "                    \n",
       "                    <tr>\n",
       "                        <th> Shape </th>\n",
       "                        <td> (32, 32, 62) </td>\n",
       "                        <td> (32, 32, 62) </td>\n",
       "                    </tr>\n",
       "                    <tr>\n",
       "                        <th> Count </th>\n",
       "                        <td> 1 Tasks </td>\n",
       "                        <td> 1 Chunks </td>\n",
       "                    </tr>\n",
       "                    <tr>\n",
       "                    <th> Type </th>\n",
       "                    <td> complex128 </td>\n",
       "                    <td> numpy.ndarray </td>\n",
       "                    </tr>\n",
       "                </tbody>\n",
       "            </table>\n",
       "        </td>\n",
       "        <td>\n",
       "        <svg width=\"216\" height=\"148\" style=\"stroke:rgb(0,0,0);stroke-width:1\" >\n",
       "\n",
       "  <!-- Horizontal lines -->\n",
       "  <line x1=\"10\" y1=\"0\" x2=\"46\" y2=\"36\" style=\"stroke-width:2\" />\n",
       "  <line x1=\"10\" y1=\"61\" x2=\"46\" y2=\"98\" style=\"stroke-width:2\" />\n",
       "\n",
       "  <!-- Vertical lines -->\n",
       "  <line x1=\"10\" y1=\"0\" x2=\"10\" y2=\"61\" style=\"stroke-width:2\" />\n",
       "  <line x1=\"46\" y1=\"36\" x2=\"46\" y2=\"98\" style=\"stroke-width:2\" />\n",
       "\n",
       "  <!-- Colored Rectangle -->\n",
       "  <polygon points=\"10.0,0.0 46.4326375711575,36.4326375711575 46.4326375711575,98.36812144212524 10.0,61.935483870967744\" style=\"fill:#ECB172A0;stroke-width:0\"/>\n",
       "\n",
       "  <!-- Horizontal lines -->\n",
       "  <line x1=\"10\" y1=\"0\" x2=\"130\" y2=\"0\" style=\"stroke-width:2\" />\n",
       "  <line x1=\"46\" y1=\"36\" x2=\"166\" y2=\"36\" style=\"stroke-width:2\" />\n",
       "\n",
       "  <!-- Vertical lines -->\n",
       "  <line x1=\"10\" y1=\"0\" x2=\"46\" y2=\"36\" style=\"stroke-width:2\" />\n",
       "  <line x1=\"130\" y1=\"0\" x2=\"166\" y2=\"36\" style=\"stroke-width:2\" />\n",
       "\n",
       "  <!-- Colored Rectangle -->\n",
       "  <polygon points=\"10.0,0.0 130.0,0.0 166.4326375711575,36.4326375711575 46.4326375711575,36.4326375711575\" style=\"fill:#ECB172A0;stroke-width:0\"/>\n",
       "\n",
       "  <!-- Horizontal lines -->\n",
       "  <line x1=\"46\" y1=\"36\" x2=\"166\" y2=\"36\" style=\"stroke-width:2\" />\n",
       "  <line x1=\"46\" y1=\"98\" x2=\"166\" y2=\"98\" style=\"stroke-width:2\" />\n",
       "\n",
       "  <!-- Vertical lines -->\n",
       "  <line x1=\"46\" y1=\"36\" x2=\"46\" y2=\"98\" style=\"stroke-width:2\" />\n",
       "  <line x1=\"166\" y1=\"36\" x2=\"166\" y2=\"98\" style=\"stroke-width:2\" />\n",
       "\n",
       "  <!-- Colored Rectangle -->\n",
       "  <polygon points=\"46.4326375711575,36.4326375711575 166.4326375711575,36.4326375711575 166.4326375711575,98.36812144212524 46.4326375711575,98.36812144212524\" style=\"fill:#ECB172A0;stroke-width:0\"/>\n",
       "\n",
       "  <!-- Text -->\n",
       "  <text x=\"106.432638\" y=\"118.368121\" font-size=\"1.0rem\" font-weight=\"100\" text-anchor=\"middle\" >62</text>\n",
       "  <text x=\"186.432638\" y=\"67.400380\" font-size=\"1.0rem\" font-weight=\"100\" text-anchor=\"middle\" transform=\"rotate(0,186.432638,67.400380)\">32</text>\n",
       "  <text x=\"18.216319\" y=\"100.151803\" font-size=\"1.0rem\" font-weight=\"100\" text-anchor=\"middle\" transform=\"rotate(45,18.216319,100.151803)\">32</text>\n",
       "</svg>\n",
       "        </td>\n",
       "    </tr>\n",
       "</table>"
      ],
      "text/plain": [
       "sidpy.Dataset of type UNKNOWN with:\n",
       " dask.array<array, shape=(32, 32, 62), dtype=complex128, chunksize=(32, 32, 62), chunktype=numpy.ndarray>\n",
       " data contains: pfm complex spectra (V)\n",
       " and Dimensions: \n",
       "location index y:  index (generic) of size (32,)\n",
       "location index x:  index (Hz) of size (32,)\n",
       "c:  generic (generic) of size (62,)"
      ]
     },
     "execution_count": 11,
     "metadata": {},
     "output_type": "execute_result"
    }
   ],
   "source": [
    "# sidpy dataset of complex spectra\n",
    "dset_cs"
   ]
  },
  {
   "cell_type": "markdown",
   "id": "712246d0",
   "metadata": {},
   "source": [
    "We can also load the saved h5 file and analyze it after experiments"
   ]
  },
  {
   "cell_type": "code",
   "execution_count": 12,
   "id": "087ca1b5",
   "metadata": {},
   "outputs": [
    {
     "name": "stdout",
     "output_type": "stream",
     "text": [
      "/\n",
      "├ BE Channels\n",
      "  -----------\n",
      "  ├ Channels\n",
      "    --------\n",
      "    ├ Channels\n",
      "    ├ channels images\n",
      "    ├ d\n",
      "    ├ x axis\n",
      "    ├ y axis\n",
      "├ BE Complex Spectra\n",
      "  ------------------\n",
      "  ├ Complex Spectra\n",
      "    ---------------\n",
      "    ├ Complex Spectra\n",
      "    ├ c\n",
      "    ├ location index x\n",
      "    ├ location index y\n",
      "├ BE Parameters\n",
      "  -------------\n",
      "  ├ frequency\n",
      "  ├ pulse parameters\n",
      "  ├ scan size\n",
      "├ BE Quick Fitting\n",
      "  ----------------\n",
      "  ├ Quick Fitting\n",
      "    -------------\n",
      "    ├ BE responses\n",
      "    ├ Quick Fitting\n",
      "    ├ x axis\n",
      "    ├ y axis\n"
     ]
    }
   ],
   "source": [
    "hf = h5py.File('test_0.hf5', 'r+')\n",
    "sidpy.hdf.hdf_utils.print_tree(hf)"
   ]
  },
  {
   "cell_type": "code",
   "execution_count": 13,
   "id": "b4933848",
   "metadata": {},
   "outputs": [],
   "source": [
    "be = hf[\"BE Quick Fitting/Quick Fitting/Quick Fitting\"]"
   ]
  },
  {
   "cell_type": "code",
   "execution_count": 14,
   "id": "d05b1791",
   "metadata": {},
   "outputs": [
    {
     "data": {
      "text/plain": [
       "<matplotlib.image.AxesImage at 0x1ba0c06efb0>"
      ]
     },
     "execution_count": 14,
     "metadata": {},
     "output_type": "execute_result"
    },
    {
     "data": {
      "image/png": "[encoded data removed]",
      "text/plain": [
       "<Figure size 640x480 with 1 Axes>"
      ]
     },
     "metadata": {},
     "output_type": "display_data"
    }
   ],
   "source": [
    "be = np.asarray(be)\n",
    "plt.imshow(be[:,:,0])"
   ]
  },
  {
   "cell_type": "markdown",
   "id": "d1cc05b2",
   "metadata": {},
   "source": [
    "------------------------------------------------------------------------------------------\n",
    "                                          BEPS Measurements\n"
   ]
  },
  {
   "cell_type": "markdown",
   "id": "3a663816",
   "metadata": {},
   "source": [
    "### Set BEPS parameters\n",
    "In addition to BE piezoresponce force microscopy image measurement, we can also do BE piezoresponse spectroscopy (BEPS) measurement with the function $do\\_BEPS\\_xxx()$. \n",
    "\n",
    "However, before doing BEPS measurement, we first need to define BEPS measurement parameters with the function $define\\_BEPS\\_parameters()$. In this function, we need to provide BEPS wavefrom parameters, such as amplitude, steps, cycle numbers, etc. "
   ]
  },
  {
   "cell_type": "code",
   "execution_count": 15,
   "id": "c403b573",
   "metadata": {},
   "outputs": [
    {
     "name": "stdout",
     "output_type": "stream",
     "text": [
      "BEPS parameters are:  (8.0, 0.0, 0.0, 32, 3, 0, 0, 0, 0.001, 0.0, 0.0, 0.0, 1, 0, 8.0, 8.0, 7.0, -7.0, False, False, False)\n"
     ]
    }
   ],
   "source": [
    "# Define BEPS parameters\n",
    "newexp.define_BEPS_parameters(beps_parms_dict = {\"amplitude_V_00\": 8, \"offset_V_01\":0, \n",
    "                                                 \"read_voltage_V_02\": 0, \"step_per_cycle_03\": 32, \n",
    "                                                 \"num_cycles_04\": 3, \"cycle_fraction_05\": 0,\n",
    "                                                 \"cycle_phase_shift_06\": 0, \"measure_loops_07\": 0, \n",
    "                                                 \"transition_time_s_08\": 1E-3, \"delay_after_step_s_09\": 0},\n",
    "                             do_create_waveform = True)"
   ]
  },
  {
   "cell_type": "markdown",
   "id": "4b6ce93e",
   "metadata": {},
   "source": [
    "### Do grid BEPS\n",
    "After defining BEPS parameters, we can execute $do\\_BEPS\\_grid()$ function to perform a BEPS measurement. In the $do\\_BEPS\\_grid()$ function, we can provide grid pixel number in $beps\\_grid\\_parms\\_dict()$"
   ]
  },
  {
   "cell_type": "code",
   "execution_count": 16,
   "id": "6f8485ba",
   "metadata": {},
   "outputs": [
    {
     "name": "stderr",
     "output_type": "stream",
     "text": [
      " [progress: 0:00:39] |************************************  | (ETA:   0:00:01) C:\\Users\\yla\\AppData\\Local\\anaconda3\\lib\\site-packages\\pyNSID\\io\\hdf_utils.py:376: FutureWarning: validate_h5_dimension may be removed in a future version\n",
      "  warn('validate_h5_dimension may be removed in a future version',\n",
      "C:\\Users\\yla\\AppData\\Local\\anaconda3\\lib\\site-packages\\pyNSID\\io\\hdf_utils.py:376: FutureWarning: validate_h5_dimension may be removed in a future version\n",
      "  warn('validate_h5_dimension may be removed in a future version',\n",
      "C:\\Users\\yla\\AppData\\Local\\anaconda3\\lib\\site-packages\\pyNSID\\io\\hdf_utils.py:376: FutureWarning: validate_h5_dimension may be removed in a future version\n",
      "  warn('validate_h5_dimension may be removed in a future version',\n"
     ]
    }
   ],
   "source": [
    "# do BEPS\n",
    "beps_waveform, beps_quick_fit, beps_cx, beps_chns = newexp.do_beps_grid(beps_grid_parms_dict = {\"pixel_num_x\": 5, \n",
    "                                                                                                \"pixel_num_y\": 5},\n",
    "                                                                       file_name = \"BEPS_grid\")"
   ]
  },
  {
   "cell_type": "markdown",
   "id": "90843adb",
   "metadata": {},
   "source": [
    "Plot the BEPS waveform used in the experiments."
   ]
  },
  {
   "cell_type": "code",
   "execution_count": 17,
   "id": "d1d47117",
   "metadata": {},
   "outputs": [
    {
     "data": {
      "text/plain": [
       "Text(0.5, 0, 'Step')"
      ]
     },
     "execution_count": 17,
     "metadata": {},
     "output_type": "execute_result"
    },
    {
     "data": {
      "image/png": "[encoded data removed]",
      "text/plain": [
       "<Figure size 300x200 with 1 Axes>"
      ]
     },
     "metadata": {},
     "output_type": "display_data"
    }
   ],
   "source": [
    "f, ax = plt.subplots(figsize = (3, 2))\n",
    "ax.plot(beps_waveform)\n",
    "ax.set_ylabel(\"Voltage (V)\")\n",
    "ax.set_xlabel(\"Step\")"
   ]
  },
  {
   "cell_type": "markdown",
   "id": "dda2c735",
   "metadata": {},
   "source": [
    "Druing experiments, BEPS loops can be visualized in $BEPyAE.exe$. After experiments, we can also plot all BEPS loops as below."
   ]
  },
  {
   "cell_type": "code",
   "execution_count": 18,
   "id": "d81ff692",
   "metadata": {},
   "outputs": [
    {
     "data": {
      "text/plain": [
       "Text(0, 0.5, 'Phase (rad)')"
      ]
     },
     "execution_count": 18,
     "metadata": {},
     "output_type": "execute_result"
    },
    {
     "data": {
      "image/png": "[encoded data removed]",
      "text/plain": [
       "<Figure size 1800x300 with 4 Axes>"
      ]
     },
     "metadata": {},
     "output_type": "display_data"
    }
   ],
   "source": [
    "# convert sidpy dataset to numpy array\n",
    "quick_fit = np.asarray(beps_quick_fit)\n",
    "\n",
    "# if measure_loops_07 is on and off, we need to seperate on field and off field responses.\n",
    "on_field_quick_fit = np.zeros((quick_fit.shape[0], quick_fit.shape[1], len(beps_waveform)))\n",
    "off_field_quick_fit = np.zeros((quick_fit.shape[0], quick_fit.shape[1], len(beps_waveform)))\n",
    "for i in range (len(beps_waveform)):\n",
    "    on_field_quick_fit[:,:,i] = quick_fit[:,:,2*i]\n",
    "    off_field_quick_fit[:,:,i] = quick_fit[:,:,1+2*i]\n",
    "    \n",
    "###### Plot on field and off responses ######\n",
    "idx = 0  # index of the loop to plot\n",
    "f, (ax1, ax2, ax3, ax4) = plt.subplots(1, 4, figsize = (18, 3), dpi = 100)\n",
    "f.subplots_adjust(wspace = 0.4)\n",
    "ax1.set_title(\"Off Field, Amplitude vs. Voltage\")\n",
    "ax1.plot(beps_waveform, off_field_quick_fit[idx, 0, ])  \n",
    "ax1.set_xlabel(\"Voltage (V)\")\n",
    "ax1.set_ylabel(\"Amplitude (a.u.)\")\n",
    "\n",
    "ax2.set_title(\"Off Field, Phase vs. Voltage\")\n",
    "ax2.plot(beps_waveform, off_field_quick_fit[idx, 3, ])  \n",
    "ax2.set_xlabel(\"Voltage (V)\")\n",
    "ax2.set_ylabel(\"Phase (rad)\")\n",
    "\n",
    "ax3.set_title(\"On Field, Amplitude vs. Voltage\")\n",
    "ax3.plot(beps_waveform, on_field_quick_fit[idx, 0, ])  \n",
    "ax3.set_xlabel(\"Voltage (V)\")\n",
    "ax3.set_ylabel(\"Amplitude (a.u.)\")\n",
    "\n",
    "ax4.set_title(\"On Field, Phase vs. Voltage\")\n",
    "ax4.plot(beps_waveform, on_field_quick_fit[idx, 3, ])  \n",
    "ax4.set_xlabel(\"Voltage (V)\")\n",
    "ax4.set_ylabel(\"Phase (rad)\")"
   ]
  },
  {
   "cell_type": "markdown",
   "id": "59db1bd8",
   "metadata": {},
   "source": [
    "### Do BEPS at a specific locations"
   ]
  },
  {
   "cell_type": "markdown",
   "id": "b446188e",
   "metadata": {},
   "source": [
    "In addition to BEPS measurement at grid locations, the $do\\_BEPS\\_specific()$ function also enables BEPS measurement at specified locations by providing specified coordinates to $coordinates$"
   ]
  },
  {
   "cell_type": "code",
   "execution_count": null,
   "id": "bd4c2433",
   "metadata": {},
   "outputs": [],
   "source": [
    "# do BEPS at specific locations\n",
    "beps_waveform, beps_quick_fit, beps_cx, beps_chns = newexp.do_beps_specific(coordinates = np.asarray([0.5, 0.5]),\n",
    "                                                                            file_name = \"BEPS_at_specific_location\")"
   ]
  },
  {
   "cell_type": "markdown",
   "id": "6435e97a",
   "metadata": {},
   "source": [
    "However, when you want to want to measure a feature observed in an image, you often need to convert the location from the image to the coordiante for tip. Here we can use the $convert\\_coordinates()$ function."
   ]
  },
  {
   "cell_type": "code",
   "execution_count": 21,
   "id": "e62e375c",
   "metadata": {},
   "outputs": [
    {
     "name": "stdout",
     "output_type": "stream",
     "text": [
      "[-0.21875   0.015625]\n"
     ]
    }
   ],
   "source": [
    "# e.g. convert the location [100, 130] at an image to the coordinate of tip.\n",
    "locations = np.asarray([100, 130])\n",
    "converted_coor = newexp.convert_coordinates(original_coordinates = locations, num_pix_x = 256, num_pix_y = 256)\n",
    "print(converted_coor)"
   ]
  },
  {
   "cell_type": "markdown",
   "id": "99ad7d5f",
   "metadata": {},
   "source": [
    "After we have the coordiante for tip location, we can use the $do\\_BEPS\\_specific()$ to perform BEPS measurement here"
   ]
  },
  {
   "cell_type": "code",
   "execution_count": 22,
   "id": "5af475c2",
   "metadata": {},
   "outputs": [
    {
     "name": "stderr",
     "output_type": "stream",
     "text": [
      " [progress: 0:00:01] |                                      | (ETA:  --:--:--) C:\\Users\\yla\\AppData\\Local\\anaconda3\\lib\\site-packages\\pyNSID\\io\\hdf_utils.py:376: FutureWarning: validate_h5_dimension may be removed in a future version\n",
      "  warn('validate_h5_dimension may be removed in a future version',\n",
      "C:\\Users\\yla\\AppData\\Local\\anaconda3\\lib\\site-packages\\pyNSID\\io\\hdf_utils.py:376: FutureWarning: validate_h5_dimension may be removed in a future version\n",
      "  warn('validate_h5_dimension may be removed in a future version',\n",
      "C:\\Users\\yla\\AppData\\Local\\anaconda3\\lib\\site-packages\\pyNSID\\io\\hdf_utils.py:376: FutureWarning: validate_h5_dimension may be removed in a future version\n",
      "  warn('validate_h5_dimension may be removed in a future version',\n"
     ]
    }
   ],
   "source": [
    "# do BEPS at specific locations\n",
    "beps_waveform, beps_quick_fit, beps_cx, beps_chns = newexp.do_beps_specific(coordinates = converted_coor,\n",
    "                                                                            file_name = \"BEPS_at_specific_location\")"
   ]
  },
  {
   "cell_type": "markdown",
   "id": "4e5ba99f",
   "metadata": {},
   "source": [
    "------------------------------------------------------------------------------------------\n",
    "                                         "
   ]
  },
  {
   "cell_type": "markdown",
   "id": "36900bc3",
   "metadata": {},
   "source": [
    "### Apply a pulse"
   ]
  },
  {
   "cell_type": "markdown",
   "id": "476a955c",
   "metadata": {},
   "source": [
    "In addition to characterization, SPM also allows to manipulate objects. For example, applying a DC pulse via SPM tip to a ferroelectric film allows to flip the ferroelectric polarization. \n",
    "\n",
    "In AEcroscopy, we can apply a pulse by using $define\\_apply\\_pulse()$ function. We can set the pulse amplitude and pulse duration in this function, as shown below."
   ]
  },
  {
   "cell_type": "code",
   "execution_count": 23,
   "id": "d331da7a",
   "metadata": {},
   "outputs": [
    {
     "data": {
      "text/plain": [
       "Text(0, 0.5, 'Voltage (V)')"
      ]
     },
     "execution_count": 23,
     "metadata": {},
     "output_type": "execute_result"
    },
    {
     "data": {
      "image/png": "[encoded data removed]",
      "text/plain": [
       "<Figure size 300x200 with 1 Axes>"
      ]
     },
     "metadata": {},
     "output_type": "display_data"
    }
   ],
   "source": [
    "# Apply DC pulse\n",
    "pulse, time = newexp.define_apply_pulse(pulse_parms_dict = {\"pulse_init_amplitude_V_00\": 0, \"pulse_mid_amplitude_V_01\": 3,\n",
    "                                                            \"pulse_final_amplitude_V_02\": 0, \"pulse_on_duration_s_03\": 20E-3,\n",
    "                                                            \"rise_time_s_05\": 1E-3, \"pulse_final_duration_s_04\": 10E-3,\n",
    "                                                            \"pulse_repeats_06\": 3}, \n",
    "                                        do_create_pulse = True, do_upload_pulse = True, do_apply_pulse = False)\n",
    "# Plot applied pulse\n",
    "f, ax = plt.subplots(figsize = (3, 2))\n",
    "f.suptitle(\"Applied Pulse\")\n",
    "ax.plot(time, pulse)\n",
    "ax.set_xlabel(\"Time (s)\")\n",
    "ax.set_ylabel(\"Voltage (V)\")"
   ]
  },
  {
   "cell_type": "markdown",
   "id": "600f1bb6",
   "metadata": {},
   "source": [
    "### Progress bar\n",
    "\n",
    "AEcroscopy is designed for automated and autonomous microscopy measurements, so we also include a progress function $progress\\_bar()$ that assists users to track the experiment progress. For example, when we perform 5 iterations BEPS measurement, we can use the progress bar to track the experiment progress as below. "
   ]
  },
  {
   "cell_type": "code",
   "execution_count": 24,
   "id": "f3f5af70",
   "metadata": {},
   "outputs": [
    {
     "name": "stderr",
     "output_type": "stream",
     "text": [
      " [progress: 0:00:02] |******************************        | (ETA:   0:00:00) "
     ]
    }
   ],
   "source": [
    "iteration = 5\n",
    "progress_bar = newexp.progress_bar(max_value = iteration)\n",
    "for i in range (iteration):\n",
    "    newexp.define_BEPS_parameters(do_VS_waveform = True, feedbackon = False)\n",
    "    progress_bar.update(i)"
   ]
  },
  {
   "cell_type": "markdown",
   "id": "734cd5b9",
   "metadata": {},
   "source": [
    "------------------------------------------------------------------------------------------------\n",
    "                                         Capability with FPGA"
   ]
  },
  {
   "cell_type": "markdown",
   "id": "3b37e505",
   "metadata": {},
   "source": [
    "In AEcroscopy-BEPyAE.exe system, users have various options of scan trajectories when equiped with FPGA, such as sprial scan or any customized trajectories.\n",
    "\n",
    "### Spiral Scan\n",
    "\n",
    "Here we will show how to do spiral scan with the $fpga\\_spiral\\_scan()$ function. Using this function, we set the spiral parameters, e.g., inner radius, outer radius, spiral cycles, duration, etc; the function will return the spiral result and save the result as a H5 file. "
   ]
  },
  {
   "cell_type": "code",
   "execution_count": 25,
   "id": "e804a0c2",
   "metadata": {},
   "outputs": [],
   "source": [
    "sprial_results = newexp.fpga_spiral_scan(spiral_parms_dict = {\"spiral_inner_radius_x_V_00\": 0, \"spiral_outer_radius_x_V_01\": 2,\n",
    "                                                              \"spiral_inner_radius_y_V_02\": 0, \"spiral_outer_radius_y_V_03\": 2,\n",
    "                                                              \"spiral_N_cycles_04\": 5, \"spiral_duration_05\": 5,\n",
    "                                                              \"spiral_dose_distribution_06\": 1, \"spiral_direction_07\": 0,\n",
    "                                                              \"spiral_return_opt_08\": 0, \"scan_x_offset_V\": 0, \n",
    "                                                              \"scan_y_offset_V\": 0, \"scan_rotation_deg\": 0},\n",
    "                                         do_scan_update = True, do_scan = True,\n",
    "                                         file_name = \"spiral_scan\")"
   ]
  },
  {
   "cell_type": "markdown",
   "id": "a3cb739d",
   "metadata": {},
   "source": [
    "### BE Spiral Scan\n",
    "\n",
    "If we apply BE excitation waveform during spiral scan, we can also perform BE spiral measurement. The function to perform BE spiral measurement is $fpga\\_spiral\\_scan\\_BE()$. The BE waveform parameters can be set either in this function or beforehand. "
   ]
  },
  {
   "cell_type": "code",
   "execution_count": 30,
   "id": "1679ab5d",
   "metadata": {},
   "outputs": [
    {
     "name": "stdout",
     "output_type": "stream",
     "text": [
      "BE parameters are:  (335000.0, 100000.0, 1.0, 1.0, 4, 0.004, 1, 3352.2952763920002, 0.12159459061880915)\n"
     ]
    }
   ],
   "source": [
    "# set BE parameters, set spiral parameters, and do spiral BE\n",
    "fpga_results, be_results = newexp.fpga_spiral_scan_BE(be_parms_dict = {\"center_frequency_Hz_00\": 335, \"band_width_Hz_01\": 100,\n",
    "                                                                       \"amplitude_V_02\": 1, \"phase_variation_03\": 1,\n",
    "                                                                       \"repeats_04\": 4, \"req_pulse_duration_s_05\": 4},\n",
    "                                                      do_create_be_waveform = True,\n",
    "                                                      spiral_parms_dict = {\"spiral_inner_radius_x_V_00\": 0, \n",
    "                                                                           \"spiral_outer_radius_x_V_01\": 0.5,\n",
    "                                                                           \"spiral_inner_radius_y_V_02\": 0, \n",
    "                                                                           \"spiral_outer_radius_y_V_03\": 0.5,\n",
    "                                                                           \"spiral_N_cycles_04\": 10},\n",
    "                                                      num_BE_pulse = 128, do_scan_update = True, do_BE_arb_line_update_00 = True,\n",
    "                                                      do_BE_arb_line_scan_01 = True, spiral_reconstruction = False)"
   ]
  },
  {
   "cell_type": "markdown",
   "id": "2bca4994",
   "metadata": {},
   "source": [
    "### Tip Control by FPGA\n",
    "FPGA can also drive the probe to a specific location with the function $fpga\\_tip\\_control()$. We need to input the tip location parameters when using this function, as shown below, executing the below command will move tip from [0, 0] to [0.5, 0.5]."
   ]
  },
  {
   "cell_type": "code",
   "execution_count": 31,
   "id": "b0fd5d4b",
   "metadata": {},
   "outputs": [],
   "source": [
    "newexp.fpga_tip_control(fpga_tip_parms_dict={\"strat_x_position_V_00\": 0, \"strat_y_position_V_01\": 0,\n",
    "                                             \"final_x_position_V_02\": 0.5, \"final_y_position_V_03\": 0.5},\n",
    "                        make_cur_pos_start_pos=False, do_probe_move_update=True, do_probe_move=True)"
   ]
  },
  {
   "cell_type": "markdown",
   "id": "866b8ac1",
   "metadata": {},
   "source": [
    "If we are moving the tip from current location, we can set the $make\\_cur\\_pos\\_start\\_pos = True$ and provide the final location, as shown below."
   ]
  },
  {
   "cell_type": "code",
   "execution_count": 32,
   "id": "cf95fe02",
   "metadata": {},
   "outputs": [],
   "source": [
    "newexp.fpga_tip_control(fpga_tip_parms_dict={\"final_x_position_V_02\": 0.5, \"final_y_position_V_03\": 0.5},\n",
    "                        make_cur_pos_start_pos=True, do_probe_move_update=True, do_probe_move=True)"
   ]
  },
  {
   "cell_type": "markdown",
   "id": "16d8199b",
   "metadata": {},
   "source": [
    "### FPGA Driven Line by Line Raster Scan\n",
    "\n",
    "We can also use $fpga\\_linebyline\\_raster\\_scan()$ function to perform slow raster scan or line by line scan. \n",
    "* when we set $do\\_full\\_raster\\_scan = True$, $wait\\_to\\_advance\\_to\\_next\\_line = False$, and $do\\_next\\_raster\\_line\\_only = False$, this function can be used to perform a full raster scan, as shown below. "
   ]
  },
  {
   "cell_type": "code",
   "execution_count": 33,
   "id": "097ff348",
   "metadata": {},
   "outputs": [],
   "source": [
    "raster_full = newexp.fpga_linebyline_raster_scan(line_by_line_raster_dict = {\"raster_scan_size_x_V_00\": 1, \n",
    "                                                                             \"raster_scan_size_y_V_01\": 1, \n",
    "                                                                             \"raster_N_scan_lines_02\": 64, \n",
    "                                                                             \"raster_line_duration_s_03\": 1,\n",
    "                                                                             \"scan_x_offset_V_04\": 0, \n",
    "                                                                             \"scan_y_offset_V_05\": 0,\n",
    "                                                                             \"scan_rotation_deg_06\": 0}, \n",
    "                                                 initialize_line_by_line_raster=True, do_full_raster_scan=True, \n",
    "                                                 wait_to_advance_to_next_line=False, do_next_raster_line_only=False,\n",
    "                                                 stop_full_raster_scan=False)"
   ]
  },
  {
   "cell_type": "markdown",
   "id": "7b4e5591",
   "metadata": {},
   "source": [
    "* Alternatively, when we set $do\\_full\\_raster\\_scan = False$, $wait\\_to\\_advance\\_to\\_next\\_line = True$, and $do\\_next\\_raster\\_line\\_only = True$, this function can be used to perform scan line by line, as shown below. "
   ]
  },
  {
   "cell_type": "code",
   "execution_count": 35,
   "id": "74c902f8",
   "metadata": {},
   "outputs": [],
   "source": [
    "raster_line = newexp.fpga_linebyline_raster_scan(line_by_line_raster_dict = {\"raster_scan_size_x_V_00\": 1, \n",
    "                                                                             \"raster_scan_size_y_V_01\": 1, \n",
    "                                                                             \"raster_N_scan_lines_02\": 64, \n",
    "                                                                             \"raster_line_duration_s_03\": 1,\n",
    "                                                                             \"scan_x_offset_V_04\": 0, \n",
    "                                                                             \"scan_y_offset_V_05\": 0,\n",
    "                                                                             \"scan_rotation_deg_06\": 0}, \n",
    "                                                 initialize_line_by_line_raster=True, do_full_raster_scan=False, \n",
    "                                                 wait_to_advance_to_next_line=True, do_next_raster_line_only=True,\n",
    "                                                 stop_full_raster_scan=False)"
   ]
  },
  {
   "cell_type": "code",
   "execution_count": null,
   "id": "47b950cc",
   "metadata": {},
   "outputs": [],
   "source": []
  }
 ],
 "metadata": {
  "kernelspec": {
   "display_name": "Python 3 (ipykernel)",
   "language": "python",
   "name": "python3"
  },
  "language_info": {
   "codemirror_mode": {
    "name": "ipython",
    "version": 3
   },
   "file_extension": ".py",
   "mimetype": "text/x-python",
   "name": "python",
   "nbconvert_exporter": "python",
   "pygments_lexer": "ipython3",
   "version": "3.10.9"
  }
 },
 "nbformat": 4,
 "nbformat_minor": 5
}
