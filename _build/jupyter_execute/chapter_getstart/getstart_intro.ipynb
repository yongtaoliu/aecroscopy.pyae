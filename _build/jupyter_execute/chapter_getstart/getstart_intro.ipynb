{
 "cells": [
  {
   "cell_type": "markdown",
   "id": "6bc2cadf",
   "metadata": {},
   "source": [
    "# Get Started\n",
    "\n",
    "\n",
    "$_{Yongtao}$ $_{Liu,}$ $_{liuy3@ornl.gov}$\n",
    "\n",
    "$_{July}$ $_{2023}$"
   ]
  },
  {
   "cell_type": "markdown",
   "id": "fbfb10f3",
   "metadata": {},
   "source": [
    "## Install\n",
    "\n",
    "This introduction shows how to install AEcroscopy"
   ]
  },
  {
   "cell_type": "markdown",
   "id": "682d0459",
   "metadata": {},
   "source": [
    "```{Attention}\n",
    "AEcroscopy is a Python package for seamless communications with Application Program Interface (API), PyAE and/or PyScanner. PyAE and PyScanner are crafted using ActiveX controls for Windows operating system. Therefore, for compatibility, we recommand install AEcroscopy in your Windows environment.\n",
    "```  "
   ]
  },
  {
   "cell_type": "markdown",
   "id": "39c604d7",
   "metadata": {},
   "source": [
    "### Using pip"
   ]
  },
  {
   "cell_type": "markdown",
   "id": "574545a4",
   "metadata": {},
   "source": [
    "The following code will install the latest version AEcroscopy"
   ]
  },
  {
   "cell_type": "code",
   "execution_count": null,
   "id": "ddea078a",
   "metadata": {},
   "outputs": [],
   "source": [
    "!pip install AEcroscopy"
   ]
  },
  {
   "cell_type": "markdown",
   "id": "1b760225",
   "metadata": {},
   "source": [
    "To install a specific version AEcroscopy, e.g., 0.0.1"
   ]
  },
  {
   "cell_type": "code",
   "execution_count": null,
   "id": "96536dfd",
   "metadata": {},
   "outputs": [],
   "source": [
    "!pip install AEcroscopy==0.0.1"
   ]
  },
  {
   "cell_type": "markdown",
   "id": "20892e64",
   "metadata": {},
   "source": [
    "### Install from source"
   ]
  },
  {
   "cell_type": "markdown",
   "id": "44aeccf1",
   "metadata": {},
   "source": [
    "You can also install AEcroscopy from source."
   ]
  },
  {
   "cell_type": "markdown",
   "id": "94f74c61",
   "metadata": {},
   "source": [
    "Download from source first:"
   ]
  },
  {
   "cell_type": "code",
   "execution_count": null,
   "id": "227be862",
   "metadata": {},
   "outputs": [],
   "source": [
    "git clone https://github.com/aecroscopy/aecroscopy.git"
   ]
  },
  {
   "cell_type": "markdown",
   "id": "379aa8b7",
   "metadata": {},
   "source": [
    "Change directory to downloaded AEcroscopy:"
   ]
  },
  {
   "cell_type": "code",
   "execution_count": null,
   "id": "d50195ed",
   "metadata": {},
   "outputs": [],
   "source": [
    "cd ../../aecroscopy"
   ]
  },
  {
   "cell_type": "markdown",
   "id": "41c30725",
   "metadata": {},
   "source": [
    "Install:"
   ]
  },
  {
   "cell_type": "code",
   "execution_count": null,
   "id": "c40bfb50",
   "metadata": {},
   "outputs": [],
   "source": [
    "pip install -e '.[dev]'"
   ]
  },
  {
   "cell_type": "markdown",
   "id": "a70c42d7",
   "metadata": {},
   "source": [
    "```{admonition} Trouble\n",
    "If you have trouble, please reach out on the forum or via email.\n",
    "```"
   ]
  }
 ],
 "metadata": {
  "kernelspec": {
   "display_name": "Python 3 (ipykernel)",
   "language": "python",
   "name": "python3"
  },
  "language_info": {
   "codemirror_mode": {
    "name": "ipython",
    "version": 3
   },
   "file_extension": ".py",
   "mimetype": "text/x-python",
   "name": "python",
   "nbconvert_exporter": "python",
   "pygments_lexer": "ipython3",
   "version": "3.10.9"
  }
 },
 "nbformat": 4,
 "nbformat_minor": 5
}