{
 "cells": [
  {
   "cell_type": "markdown",
   "id": "7472013b",
   "metadata": {},
   "source": [
    "# Welcome to AEcroscoPy\n",
    "\n",
    "$_{Yongtao}$ $_{Liu,}$ \n",
    "$_{youngtaoliu@gmail.com}$\n",
    "\n",
    "$_{Feb}$ $_{2024}$\n",
    "\n",
    "Welcom to AEcroscoPy! With this site, we aim to provide an introduction and tutorial to use AEcroscoPy for automated and autonomous microscopy experiments and data processing. \n",
    "\n",
    "```{image} ../images/logo1.png\n",
    ":width: 300px\n",
    ":align: left\n",
    "```\n",
    "```{image} ../images/logo2.png\n",
    ":width: 300px\n",
    ":align: left\n",
    "```\n",
    "\n",
    "Automated and autonomous experiments have become popular in various fields, such as drug discovery, spae epxloration, environmental monitoring, and materials science. Automated experiments leverage technology and machinery to perform tasks automatically to improve efficiency and precision, autonomous experiments is a step further by integrating artifical intelligence (AI) and machine learning (ML) for data analysis, decision-making, optimization, and adaption. A program package and application program interface (API) can empower researchers to build sophisticated autonomous systems to conduct experiments with a high degree of autonomy and efficiency by providing handy infrastructure and tools for seamless intergration, efficience hardware control, AI-based decision-making, and real-time adpation in experiments. \n",
    "\n",
    "AEcroscoPy is a Python package that integrates with our self-developed API PyAE and PyScanner, aiming to revolutionizing microscopy measurements. AEcroscoPy enables easy implementation of experiments formulated with Python program, allows users to orchestrate complex experiments, design workflows, and gather data more efficiently. Furthermore, AEcroscopy allows users to integrate ML models into the operating experiment, harnessing the power of AI for real-time data analysis and decision-making. This will enable rapid iterations in experiment and largely accelerate scientific discovery in microscopy experiments.\n"
   ]
  }
 ],
 "metadata": {
  "kernelspec": {
   "display_name": "Python 3 (ipykernel)",
   "language": "python",
   "name": "python3"
  },
  "language_info": {
   "codemirror_mode": {
    "name": "ipython",
    "version": 3
   },
   "file_extension": ".py",
   "mimetype": "text/x-python",
   "name": "python",
   "nbconvert_exporter": "python",
   "pygments_lexer": "ipython3",
   "version": "3.10.9"
  }
 },
 "nbformat": 4,
 "nbformat_minor": 5
}